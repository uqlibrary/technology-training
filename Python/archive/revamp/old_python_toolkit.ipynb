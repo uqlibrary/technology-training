{
 "cells": [
  {
   "cell_type": "markdown",
   "metadata": {},
   "source": [
    "# Python Toolkit\n",
    "\n",
    "In this standalone, we take a look at the Python building blocks that you'll want to have in your toolkit. This includes:\n",
    "\n",
    "- Loops\n",
    "- Functions\n",
    "- Modules\n",
    "- Understanding methods/attributes vs functions/variables (i.e., classes)\n",
    "- Useful methods (e.g. string methods, list methods)\n",
    "- I/O and filesystem (using `os` and `sys`)\n",
    "- Managing your Python installation (environment, kernel etc.)\n",
    "\n",
    "We'll work by procedurally building up a bigger and bigger program, containing all the features we cover. That way you've got them all in context"
   ]
  },
  {
   "cell_type": "markdown",
   "metadata": {},
   "source": [
    "## Loops\n",
    "\n",
    "Python can repeat sections of code in two ways:\n",
    "\n",
    "- Conditionally\n",
    "- Iteratively\n",
    "\n",
    "### `while` loops\n",
    "\n",
    "In the first case, we can repeat a block of code **while** a condition is `True`. Unsurprising, this is a `while` loop.\n",
    "\n",
    "\n",
    "It's the same as an `if` statement, except we *keep* running the code until the condition is `False`. For example,"
   ]
  },
  {
   "cell_type": "code",
   "execution_count": null,
   "metadata": {},
   "outputs": [
    {
     "name": "stdout",
     "output_type": "stream",
     "text": [
      "['a']\n",
      "['a', 'a']\n",
      "['a', 'a', 'a']\n",
      "['a', 'a', 'a', 'a']\n",
      "['a', 'a', 'a', 'a', 'a']\n",
      "['a', 'a', 'a', 'a', 'a', 'a']\n",
      "['a', 'a', 'a', 'a', 'a', 'a', 'a']\n",
      "['a', 'a', 'a', 'a', 'a', 'a', 'a', 'a']\n",
      "['a', 'a', 'a', 'a', 'a', 'a', 'a', 'a', 'a']\n",
      "['a', 'a', 'a', 'a', 'a', 'a', 'a', 'a', 'a', 'a']\n"
     ]
    }
   ],
   "source": [
    "list_to_grow = []\n",
    "\n",
    "while len(list_to_grow) < 10:\n",
    "    list_to_grow.append(\"a\")\n",
    "    print(list_to_grow)"
   ]
  },
  {
   "cell_type": "markdown",
   "metadata": {},
   "source": [
    "Let's use this to produce the Fibonacci sequence, which is a sequence of numbers that reveals symmetries in nature.\n",
    "\n",
    "If we label the $i$-th number of the sequence as $n_i$, it starts with\n",
    "\n",
    "- $n_0 = 0$\n",
    "- $n_1 = 1$\n",
    "\n",
    "We then add the previous two numbers to make the next:\n",
    "\n",
    "$$\\begin{align*}n_2 &= n_1 + n_0\\\\ &= 1 + 0 = 1\\end{align*}$$\n",
    "$$\\begin{align*}n_3 &= n_2 + n_1\\\\ &= 1 + 1 = 2\\end{align*}$$\n",
    "$$\\begin{align*}n_4 &= n_3 + n_2\\\\ &= 2 + 1 = 3\\end{align*}$$\n",
    "$$\\begin{align*}n_5 &= n_4 + n_3\\\\ &= 3 + 2 = 5\\end{align*}$$\n",
    "$$\\begin{align*}n_6 &= n_5 + n_4\\\\ &= 5 + 3 = 8\\end{align*}$$\n",
    "\n",
    "and so on: $n=\\{0,1,1,2,3,5,8,...\\}$ We can express this succienctly as\n",
    "\n",
    "$$n_i = n_{i-1} + n_{i-2}$$\n",
    "\n",
    "which will be useful for the code.\n",
    "\n",
    "Let's use a while loop to make the sequence with a Python list"
   ]
  },
  {
   "cell_type": "code",
   "execution_count": 1,
   "metadata": {},
   "outputs": [
    {
     "name": "stdout",
     "output_type": "stream",
     "text": [
      "[0, 1, 1]\n",
      "[0, 1, 1, 2]\n",
      "[0, 1, 1, 2, 3]\n",
      "[0, 1, 1, 2, 3, 5]\n",
      "[0, 1, 1, 2, 3, 5, 8]\n",
      "[0, 1, 1, 2, 3, 5, 8, 13]\n",
      "[0, 1, 1, 2, 3, 5, 8, 13, 21]\n",
      "[0, 1, 1, 2, 3, 5, 8, 13, 21, 34]\n",
      "[0, 1, 1, 2, 3, 5, 8, 13, 21, 34, 55]\n",
      "[0, 1, 1, 2, 3, 5, 8, 13, 21, 34, 55, 89]\n",
      "[0, 1, 1, 2, 3, 5, 8, 13, 21, 34, 55, 89, 144]\n",
      "[0, 1, 1, 2, 3, 5, 8, 13, 21, 34, 55, 89, 144, 233]\n",
      "[0, 1, 1, 2, 3, 5, 8, 13, 21, 34, 55, 89, 144, 233, 377]\n",
      "[0, 1, 1, 2, 3, 5, 8, 13, 21, 34, 55, 89, 144, 233, 377, 610]\n",
      "[0, 1, 1, 2, 3, 5, 8, 13, 21, 34, 55, 89, 144, 233, 377, 610, 987]\n",
      "[0, 1, 1, 2, 3, 5, 8, 13, 21, 34, 55, 89, 144, 233, 377, 610, 987, 1597]\n",
      "[0, 1, 1, 2, 3, 5, 8, 13, 21, 34, 55, 89, 144, 233, 377, 610, 987, 1597, 2584]\n",
      "[0, 1, 1, 2, 3, 5, 8, 13, 21, 34, 55, 89, 144, 233, 377, 610, 987, 1597, 2584, 4181]\n"
     ]
    }
   ],
   "source": [
    "# Create first two\n",
    "Fibonacci = [0,1]\n",
    "\n",
    "while len(Fibonacci) < 20:\n",
    "    # Calculate next digit in sequence\n",
    "    n = Fibonacci[-1] + Fibonacci[-2]\n",
    "\n",
    "    # Append to list\n",
    "    Fibonacci.append(n)\n",
    "    print(Fibonacci)"
   ]
  },
  {
   "cell_type": "markdown",
   "metadata": {},
   "source": [
    "### `for` loops\n",
    "\n",
    "These repeat a block of code **for** each element in an iterable object (e.g. `list`, `np.array`, `pd.Series`). They tend to crop up more often.\n",
    "\n",
    "We can use `for` loops to repeat a section of code for every element our Fibonacci sequence. We can print out each value with"
   ]
  },
  {
   "cell_type": "code",
   "execution_count": null,
   "metadata": {},
   "outputs": [
    {
     "name": "stdout",
     "output_type": "stream",
     "text": [
      "1\n",
      "1\n",
      "2\n",
      "3\n",
      "5\n",
      "8\n",
      "13\n",
      "21\n",
      "34\n",
      "55\n",
      "89\n",
      "144\n",
      "233\n",
      "377\n",
      "610\n",
      "987\n",
      "1597\n",
      "2584\n",
      "4181\n",
      "6765\n"
     ]
    }
   ],
   "source": [
    "for n in Fibonacci:\n",
    "    print(n)"
   ]
  },
  {
   "cell_type": "markdown",
   "metadata": {},
   "source": [
    "There's a few additional functions we can employ for `for` loops. The first is `enumerate()`, which allows us to keep track of which iteration we're up to"
   ]
  },
  {
   "cell_type": "code",
   "execution_count": null,
   "metadata": {},
   "outputs": [
    {
     "name": "stdout",
     "output_type": "stream",
     "text": [
      "Fib number 0 is 1\n",
      "Fib number 1 is 1\n",
      "Fib number 2 is 2\n",
      "Fib number 3 is 3\n",
      "Fib number 4 is 5\n",
      "Fib number 5 is 8\n",
      "Fib number 6 is 13\n",
      "Fib number 7 is 21\n",
      "Fib number 8 is 34\n",
      "Fib number 9 is 55\n",
      "Fib number 10 is 89\n",
      "Fib number 11 is 144\n",
      "Fib number 12 is 233\n",
      "Fib number 13 is 377\n",
      "Fib number 14 is 610\n",
      "Fib number 15 is 987\n",
      "Fib number 16 is 1597\n",
      "Fib number 17 is 2584\n",
      "Fib number 18 is 4181\n",
      "Fib number 19 is 6765\n"
     ]
    }
   ],
   "source": [
    "for i, n in enumerate(Fibonacci):\n",
    "    print(\"Fib number\", i,\"is\", n)"
   ]
  },
  {
   "cell_type": "markdown",
   "metadata": {},
   "source": [
    "The second is `zip()`, which allows us to iterate through two sequences simultaneously. We can use this to determine the so-called Golden Ratio $φ$, which is approximated by the ratio of two consecutive numbers in the sequence.\n",
    "\n",
    "We'll loop through two lists, `Fibonacci[1:]` and `Fibonacci[2:]`, which are slices of our original `Fibonacci` list, offset by one element. First, let's just compare them:"
   ]
  },
  {
   "cell_type": "code",
   "execution_count": 4,
   "metadata": {},
   "outputs": [
    {
     "name": "stdout",
     "output_type": "stream",
     "text": [
      "[0, 1, 1, 2, 3, 5, 8, 13, 21, 34, 55, 89, 144, 233, 377, 610, 987, 1597, 2584, 4181]\n",
      "[1, 1, 2, 3, 5, 8, 13, 21, 34, 55, 89, 144, 233, 377, 610, 987, 1597, 2584, 4181]\n",
      "[1, 2, 3, 5, 8, 13, 21, 34, 55, 89, 144, 233, 377, 610, 987, 1597, 2584, 4181]\n"
     ]
    }
   ],
   "source": [
    "print(Fibonacci)\n",
    "print(Fibonacci[1:])\n",
    "print(Fibonacci[2:])"
   ]
  },
  {
   "cell_type": "markdown",
   "metadata": {},
   "source": [
    "Notice how the `Fibonacci[1:]` skips the first element and `Fibonacci[2:]` skips the first two?\n",
    "\n",
    "We'll calculate the Golden Ratio by looping through these lists at the same time, taking the ratio each iteration."
   ]
  },
  {
   "cell_type": "code",
   "execution_count": 5,
   "metadata": {},
   "outputs": [
    {
     "name": "stdout",
     "output_type": "stream",
     "text": [
      "1.0\n",
      "2.0\n",
      "1.5\n",
      "1.6666666666666667\n",
      "1.6\n",
      "1.625\n",
      "1.6153846153846154\n",
      "1.619047619047619\n",
      "1.6176470588235294\n",
      "1.6181818181818182\n",
      "1.6179775280898876\n",
      "1.6180555555555556\n",
      "1.6180257510729614\n",
      "1.6180371352785146\n",
      "1.618032786885246\n",
      "1.618034447821682\n",
      "1.6180338134001253\n",
      "1.618034055727554\n"
     ]
    }
   ],
   "source": [
    "for a, b in zip(Fibonacci[2:], Fibonacci[1:]):\n",
    "    print(a/b)\n"
   ]
  },
  {
   "cell_type": "markdown",
   "metadata": {},
   "source": [
    "### Activity 1\n",
    "\n",
    "Write a loop that only prints out the Fibonacci primes"
   ]
  },
  {
   "cell_type": "code",
   "execution_count": null,
   "metadata": {},
   "outputs": [
    {
     "name": "stdout",
     "output_type": "stream",
     "text": [
      "1\n",
      "1\n",
      "2\n",
      "3\n",
      "5\n",
      "8\n",
      "13\n",
      "89\n",
      "233\n",
      "1597\n",
      "28657\n",
      "514229\n",
      "433494437\n",
      "2971215073\n",
      "99194853094755497\n"
     ]
    }
   ],
   "source": [
    "Fibonacci = [1,1]\n",
    "while len(Fibonacci) < 90:\n",
    "    # Calculate next digit in sequence\n",
    "    n = Fibonacci[-1] + Fibonacci[-2]\n",
    "\n",
    "    # Append to list\n",
    "    Fibonacci.append(n)\n",
    "\n",
    "\n",
    "for n in Fibonacci:\n",
    "    for x in range(2,int(n**0.5)):\n",
    "        if n % x == 0:\n",
    "            break\n",
    "    else:\n",
    "        print(n)"
   ]
  },
  {
   "cell_type": "markdown",
   "metadata": {},
   "source": [
    "## Functions\n",
    "\n",
    "To reuse sections of code, we can store them in functions that we call later.\n"
   ]
  },
  {
   "cell_type": "code",
   "execution_count": null,
   "metadata": {},
   "outputs": [
    {
     "name": "stdout",
     "output_type": "stream",
     "text": [
      "1\n",
      "55\n",
      "354224848179261915075\n"
     ]
    }
   ],
   "source": [
    "def Fib_i(i):\n",
    "    Fibonacci = [1,1]\n",
    "\n",
    "    while len(Fibonacci) < i:\n",
    "        n = Fibonacci[-1] + Fibonacci[-2]\n",
    "        Fibonacci.append(n)\n",
    "    \n",
    "    return Fibonacci[-1]\n",
    "\n",
    "\n",
    "\n",
    "\n",
    "def in_fib(x, N = 100):\n",
    "    # Create Fibonacci sequence up to limit N\n",
    "    Fibonacci = [1,1]\n",
    "\n",
    "    while len(Fibonacci) < N:\n",
    "        n = Fibonacci[-1] + Fibonacci[-2]\n",
    "        Fibonacci.append(n)\n",
    "    \n",
    "    if x in Fibonacci:\n",
    "        return True\n",
    "    else:\n",
    "        return False\n"
   ]
  },
  {
   "cell_type": "markdown",
   "metadata": {},
   "source": [
    "## Starting with `os`\n",
    "\n",
    "We'll begin today by diving into an unusual starting point: the `os` module. Python comes with a built in module called `os` (short for operating system) which allows you to interact with your computer. Let's start by importing it"
   ]
  },
  {
   "cell_type": "code",
   "execution_count": null,
   "metadata": {},
   "outputs": [
    {
     "data": {
      "text/plain": [
       "'c:\\\\Users\\\\uqcwest5\\\\OneDrive - The University of Queensland\\\\Tech Training\\\\technology-training\\\\Python\\\\archive\\\\revamp\\\\5-python_toolkit'"
      ]
     },
     "execution_count": 17,
     "metadata": {},
     "output_type": "execute_result"
    }
   ],
   "source": [
    "import os"
   ]
  },
  {
   "cell_type": "markdown",
   "metadata": {},
   "source": [
    "This links our Python environment to the `os` module so we can now access code from it. The reason that we're starting *here* is because we can use the `os` module to interact with our computer.\n",
    "\n",
    "Let's start by using it to print a message, informing us of where we're currently working.\n",
    "\n",
    "To access anything from inside a module, we use the `.` operator. The `getcwd()` function returns the current working directory (*\"home\"*). To print it:"
   ]
  },
  {
   "cell_type": "code",
   "execution_count": 18,
   "metadata": {},
   "outputs": [
    {
     "name": "stdout",
     "output_type": "stream",
     "text": [
      "c:\\Users\\uqcwest5\\OneDrive - The University of Queensland\\Tech Training\\technology-training\\Python\\archive\\revamp\\5-python_toolkit\n"
     ]
    }
   ],
   "source": [
    "import os\n",
    "\n",
    "print(os.getcwd())"
   ]
  },
  {
   "cell_type": "markdown",
   "metadata": {},
   "source": [
    "Let's do one better and include a message. The built in `print()` function takes multiple inputs, printing them all to the screen with a space between them."
   ]
  },
  {
   "cell_type": "code",
   "execution_count": null,
   "metadata": {},
   "outputs": [
    {
     "name": "stdout",
     "output_type": "stream",
     "text": [
      "Our current working directory is: c:\\Users\\uqcwest5\\OneDrive - The University of Queensland\\Tech Training\\technology-training\\Python\\archive\\revamp\\5-python_toolkit\n"
     ]
    }
   ],
   "source": [
    "import os\n",
    "\n",
    "print(\"Our current working directory is\", os.getcwd())"
   ]
  },
  {
   "cell_type": "markdown",
   "metadata": {},
   "source": [
    "Finally, we'll take a look at the `os.listdir()` function. This lists all the files (including folders) at a location in our file system. By default, it looks at the current working directory. Let's print a message identifying the files and folders:"
   ]
  },
  {
   "cell_type": "code",
   "execution_count": null,
   "metadata": {},
   "outputs": [
    {
     "name": "stdout",
     "output_type": "stream",
     "text": [
      "Our current working directory is c:\\Users\\uqcwest5\\OneDrive - The University of Queensland\\Tech Training\\technology-training\\Python\\archive\\revamp\\5-python_toolkit\n",
      "Inside our working directory the files/folders are ['files', 'python_toolkit.ipynb']\n"
     ]
    }
   ],
   "source": [
    "import os\n",
    "\n",
    "print(\"Our current working directory is\", os.getcwd())\n",
    "print(\"Inside our working directory the files/folders are\", os.listdir())"
   ]
  },
  {
   "cell_type": "markdown",
   "metadata": {},
   "source": [
    "This is a good place to start today's session. We'll now look at conditionals, before returning to our files."
   ]
  },
  {
   "cell_type": "markdown",
   "metadata": {},
   "source": [
    "\n",
    "\n",
    "```python\n",
    "if\n",
    "elif\n",
    "else\n",
    "for\n",
    "while\n",
    "continue\n",
    "break\n",
    "else in for??\n",
    "match\n",
    "case\n",
    "```\n",
    "\n",
    "## Conditionals\n",
    "\n",
    "Conditionals and loops are the **control flow tools** every Python programmer needs. The former consist of `if`, `elif` and `else`, and allow us to only run certain code when specific conditions are met.\n",
    "\n",
    "All conditionals start with an `if` command, which tells Python only to run the following **indented block** if the condition is `True`. The colon `:` is **essential** as it marks the beginning of an indentation.\n",
    "\n",
    "```python\n",
    "if condition:\n",
    "    # Code to run if condition is True\n",
    "```\n",
    "\n",
    "What constitutes a condition? Technically, anything that returns `True` or `False`. For example, \n",
    "\n",
    "- `1 == 1` is `True`, \n",
    "- `5 > 3` is `False`, \n",
    "- `\"a\" in \"apple\"` is `True` etc.\n",
    "\n",
    "Let's use a conditional to check whether we have the folder \"data\" in our current working directory. Recall that `os.listdir()` returned a list of the objects."
   ]
  },
  {
   "cell_type": "code",
   "execution_count": null,
   "metadata": {},
   "outputs": [
    {
     "name": "stdout",
     "output_type": "stream",
     "text": [
      "Our current working directory is c:\\Users\\uqcwest5\\OneDrive - The University of Queensland\\Tech Training\\technology-training\\Python\\archive\\revamp\\5-python_toolkit\n",
      "Inside our working directory the files/folders are ['python_toolkit.ipynb']\n"
     ]
    }
   ],
   "source": [
    "import os\n",
    "\n",
    "print(\"Our current working directory is\", os.getcwd())\n",
    "print(\"Inside our working directory the files/folders are\", os.listdir())\n",
    "\n",
    "# Check if \"data\" is inside our CWD\n",
    "if \"data\" in os.listdir():\n",
    "    print()\n",
    "    print(\"The folder 'data' is already in our current working directory.\")"
   ]
  },
  {
   "cell_type": "markdown",
   "metadata": {},
   "source": [
    "Hmm, there's no message. This means that the condition failed! To catch anything that fails, we can use the `else:` statement"
   ]
  },
  {
   "cell_type": "code",
   "execution_count": null,
   "metadata": {},
   "outputs": [
    {
     "name": "stdout",
     "output_type": "stream",
     "text": [
      "Our current working directory is c:\\Users\\uqcwest5\\OneDrive - The University of Queensland\\Tech Training\\technology-training\\Python\\archive\\revamp\\5-python_toolkit\n",
      "Inside our working directory the files/folders are ['python_toolkit.ipynb']\n",
      "\n",
      "The folder 'data' is NOT in our current working directory.\n"
     ]
    }
   ],
   "source": [
    "import os\n",
    "\n",
    "print(\"Our current working directory is\", os.getcwd())\n",
    "print(\"Inside our working directory the files/folders are\", os.listdir())\n",
    "\n",
    "# Check if \"data\" is inside our CWD\n",
    "if \"data\" in os.listdir():\n",
    "    print()\n",
    "    print(\"The folder 'data' is already in our current working directory.\")\n",
    "\n",
    "else:\n",
    "    print()\n",
    "    print(\"The folder 'data' is NOT in our current working directory.\")"
   ]
  },
  {
   "cell_type": "markdown",
   "metadata": {},
   "source": [
    "Let's use `os` to make the folder for us. The function `os.mkdir(\"folder_name\")` will produce it at our current location. We'll put this **inside the `else` section**, so we only make it if it doesn't exist."
   ]
  },
  {
   "cell_type": "code",
   "execution_count": 28,
   "metadata": {},
   "outputs": [
    {
     "name": "stdout",
     "output_type": "stream",
     "text": [
      "Our current working directory is c:\\Users\\uqcwest5\\OneDrive - The University of Queensland\\Tech Training\\technology-training\\Python\\archive\\revamp\\5-python_toolkit\n",
      "Inside our working directory the files/folders are ['python_toolkit.ipynb']\n",
      "\n",
      "Created folder 'data'\n"
     ]
    }
   ],
   "source": [
    "import os\n",
    "\n",
    "print(\"Our current working directory is\", os.getcwd())\n",
    "print(\"Inside our working directory the files/folders are\", os.listdir())\n",
    "\n",
    "# Check if \"data\" is inside our CWD\n",
    "if \"data\" in os.listdir():\n",
    "    print()\n",
    "    print(\"The folder 'data' is already in our current working directory.\")\n",
    "\n",
    "else:\n",
    "    os.mkdir(\"data\")\n",
    "    print()\n",
    "    print(\"Created folder 'data'\")"
   ]
  },
  {
   "cell_type": "markdown",
   "metadata": {},
   "source": [
    "If you want to include additional conditions, you can do that with `elif`\n",
    "\n",
    "```python\n",
    "if condition1:\n",
    "    # Runs if condition1 == True\n",
    "\n",
    "elif condition2:\n",
    "    # Runs if condition1 == False and condition2 == True\n",
    "\n",
    "elif condition3:\n",
    "    # Runs if condition1 == False\n",
    "    #     and condition2 == False\n",
    "    #     and condition3 == True\n",
    "\n",
    "elif ... :\n",
    "    # ...\n",
    "\n",
    "else:\n",
    "    # Runs if all conditions are False\n",
    "\n",
    "```\n",
    "\n",
    "We won't do that here."
   ]
  },
  {
   "cell_type": "markdown",
   "metadata": {},
   "source": [
    "Let's now think about populating our data folder with some spreadsheets. We can read/write to files with the `open()` function and we need to specify two things:\n",
    "\n",
    "```python\n",
    "file = open(\"file_path\", \"mode\")\n",
    "```\n",
    "\n",
    "where\n",
    "\n",
    "- `\"file_path\"` = the path to the file we want to open/create\n",
    "- `\"mode\"` = `\"r\"` (read), `\"w\"` (write), `\"a\"` (append), ...\n",
    "\n",
    "Because it doesn't exist yet, we need to use `\"w\"` for the mode.\n",
    "\n",
    "We'll make our example file in three steps:\n",
    "\n",
    "1. Open the file with `file = open(\"file_path\", \"mode\")`\n",
    "2. Write a message to the file with `file.write(...)`\n",
    "3. Close the file with `file.close()`"
   ]
  },
  {
   "cell_type": "code",
   "execution_count": 29,
   "metadata": {},
   "outputs": [
    {
     "name": "stdout",
     "output_type": "stream",
     "text": [
      "Our current working directory is c:\\Users\\uqcwest5\\OneDrive - The University of Queensland\\Tech Training\\technology-training\\Python\\archive\\revamp\\5-python_toolkit\n",
      "Inside our working directory the files/folders are ['data', 'python_toolkit.ipynb']\n",
      "\n",
      "The folder 'data' is already in our current working directory.\n"
     ]
    }
   ],
   "source": [
    "import os\n",
    "\n",
    "print(\"Our current working directory is\", os.getcwd())\n",
    "print(\"Inside our working directory the files/folders are\", os.listdir())\n",
    "\n",
    "# Check if \"data\" is inside our CWD\n",
    "if \"data\" in os.listdir():\n",
    "    print()\n",
    "    print(\"The folder 'data' is already in our current working directory.\")\n",
    "\n",
    "else:\n",
    "    os.mkdir(\"data\")\n",
    "    print()\n",
    "    print(\"Created folder 'data'\")\n",
    "\n",
    "file = open(\"data/example.csv\", \"w\")\n",
    "file.write(\"This is my fake data\")\n",
    "file.close()"
   ]
  },
  {
   "cell_type": "markdown",
   "metadata": {},
   "source": [
    "We can use special `with ... as ...` expressions instead of closing the file, which is better practice. Specifically,\n",
    "\n",
    "```python\n",
    "file = open(\"data/example.csv\", \"w\")\n",
    "file.write(\"example_content\")\n",
    "file.close()\n",
    "```\n",
    "\n",
    "is equivalent to\n",
    "```python\n",
    "with open(\"data/example.csv\", \"w\"):\n",
    "    file.write(\"example_content\")\n",
    "```\n",
    "\n",
    "That way you'll never run into file stream errors.\n"
   ]
  },
  {
   "cell_type": "code",
   "execution_count": 30,
   "metadata": {},
   "outputs": [
    {
     "name": "stdout",
     "output_type": "stream",
     "text": [
      "Our current working directory is c:\\Users\\uqcwest5\\OneDrive - The University of Queensland\\Tech Training\\technology-training\\Python\\archive\\revamp\\5-python_toolkit\n",
      "Inside our working directory the files/folders are ['data', 'python_toolkit.ipynb']\n",
      "\n",
      "The folder 'data' is already in our current working directory.\n"
     ]
    }
   ],
   "source": [
    "import os\n",
    "\n",
    "print(\"Our current working directory is\", os.getcwd())\n",
    "print(\"Inside our working directory the files/folders are\", os.listdir())\n",
    "\n",
    "# Check if \"data\" is inside our CWD\n",
    "if \"data\" in os.listdir():\n",
    "    print()\n",
    "    print(\"The folder 'data' is already in our current working directory.\")\n",
    "\n",
    "else:\n",
    "    os.mkdir(\"data\")\n",
    "    print()\n",
    "    print(\"Created folder 'data'\")\n",
    "\n",
    "with open(\"data/example.csv\", \"w\") as file:\n",
    "    file.write(\"This is my fake data\")"
   ]
  },
  {
   "cell_type": "markdown",
   "metadata": {},
   "source": [
    "Let's store something more interesting. The Fibonacci sequence consists of numbers which start as $n = \\{0,1,1,2,3,5,...\\}$ and are formed by adding the previous two:\n",
    "\n",
    "$$n_i = n_{i-1} + n_{i-2}$$\n",
    "\n",
    "Python gives us **loops** to run blocks of code multiple times. The simplest is the `while` loop, which runs *while* some condition is `True`. It's like an `if` statement that repeats.\n",
    "\n",
    "We can use one to produce the Fibonacci sequence:"
   ]
  },
  {
   "cell_type": "code",
   "execution_count": 137,
   "metadata": {},
   "outputs": [
    {
     "name": "stdout",
     "output_type": "stream",
     "text": [
      "Our current working directory is c:\\Users\\uqcwest5\\OneDrive - The University of Queensland\\Tech Training\\technology-training\\Python\\archive\\revamp\\5-python_toolkit\n",
      "Inside our working directory the files/folders are ['.vscode', 'data', 'python_toolkit.ipynb', 'simple_io.py', '__pycache__']\n",
      "\n",
      "The folder 'data' is already in our current working directory.\n",
      "[1, 1, 2]\n",
      "[1, 1, 2, 3]\n",
      "[1, 1, 2, 3, 5]\n",
      "[1, 1, 2, 3, 5, 8]\n",
      "[1, 1, 2, 3, 5, 8, 13]\n",
      "[1, 1, 2, 3, 5, 8, 13, 21]\n",
      "[1, 1, 2, 3, 5, 8, 13, 21, 34]\n",
      "[1, 1, 2, 3, 5, 8, 13, 21, 34, 55]\n",
      "[1, 1, 2, 3, 5, 8, 13, 21, 34, 55, 89]\n",
      "[1, 1, 2, 3, 5, 8, 13, 21, 34, 55, 89, 144]\n",
      "[1, 1, 2, 3, 5, 8, 13, 21, 34, 55, 89, 144, 233]\n",
      "[1, 1, 2, 3, 5, 8, 13, 21, 34, 55, 89, 144, 233, 377]\n",
      "[1, 1, 2, 3, 5, 8, 13, 21, 34, 55, 89, 144, 233, 377, 610]\n",
      "[1, 1, 2, 3, 5, 8, 13, 21, 34, 55, 89, 144, 233, 377, 610, 987]\n",
      "[1, 1, 2, 3, 5, 8, 13, 21, 34, 55, 89, 144, 233, 377, 610, 987, 1597]\n",
      "[1, 1, 2, 3, 5, 8, 13, 21, 34, 55, 89, 144, 233, 377, 610, 987, 1597, 2584]\n",
      "[1, 1, 2, 3, 5, 8, 13, 21, 34, 55, 89, 144, 233, 377, 610, 987, 1597, 2584, 4181]\n",
      "[1, 1, 2, 3, 5, 8, 13, 21, 34, 55, 89, 144, 233, 377, 610, 987, 1597, 2584, 4181, 6765]\n"
     ]
    }
   ],
   "source": [
    "import os\n",
    "\n",
    "print(\"Our current working directory is\", os.getcwd())\n",
    "print(\"Inside our working directory the files/folders are\", os.listdir())\n",
    "\n",
    "# Check if \"data\" is inside our CWD\n",
    "if \"data\" in os.listdir():\n",
    "    print()\n",
    "    print(\"The folder 'data' is already in our current working directory.\")\n",
    "\n",
    "else:\n",
    "    os.mkdir(\"data\")\n",
    "    print()\n",
    "    print(\"Created folder 'data'\")\n",
    "\n",
    "with open(\"data/example.csv\", \"w\") as file:\n",
    "    file.write(\"This is my fake data\")\n",
    "\n",
    "# Create first two\n",
    "Fibonacci = [1,1]\n",
    "\n",
    "while len(Fibonacci) < 20:\n",
    "    # Calculate next digit in sequence\n",
    "    n = Fibonacci[-1] + Fibonacci[-2]\n",
    "\n",
    "    # Append to list\n",
    "    Fibonacci.append(n)\n",
    "    print(Fibonacci)"
   ]
  },
  {
   "cell_type": "markdown",
   "metadata": {},
   "source": [
    "We also have access to a different kind of loop, the `for` loop. This runs code **for** each element in an iterable object. We can loop through each of our Fibonacci numbers and print them out:"
   ]
  },
  {
   "cell_type": "code",
   "execution_count": 139,
   "metadata": {},
   "outputs": [
    {
     "name": "stdout",
     "output_type": "stream",
     "text": [
      "Our current working directory is c:\\Users\\uqcwest5\\OneDrive - The University of Queensland\\Tech Training\\technology-training\\Python\\archive\\revamp\\5-python_toolkit\n",
      "Inside our working directory the files/folders are ['.vscode', 'data', 'python_toolkit.ipynb', 'simple_io.py', '__pycache__']\n",
      "\n",
      "The folder 'data' is already in our current working directory.\n",
      "[1, 1, 2, 3, 5, 8, 13, 21, 34, 55, 89, 144, 233, 377, 610, 987, 1597, 2584, 4181, 6765]\n",
      "1\n",
      "1\n",
      "2\n",
      "3\n",
      "5\n",
      "8\n",
      "13\n",
      "21\n",
      "34\n",
      "55\n",
      "89\n",
      "144\n",
      "233\n",
      "377\n",
      "610\n",
      "987\n",
      "1597\n",
      "2584\n",
      "4181\n",
      "6765\n"
     ]
    }
   ],
   "source": [
    "import os\n",
    "\n",
    "print(\"Our current working directory is\", os.getcwd())\n",
    "print(\"Inside our working directory the files/folders are\", os.listdir())\n",
    "\n",
    "# Check if \"data\" is inside our CWD\n",
    "if \"data\" in os.listdir():\n",
    "    print()\n",
    "    print(\"The folder 'data' is already in our current working directory.\")\n",
    "\n",
    "else:\n",
    "    os.mkdir(\"data\")\n",
    "    print()\n",
    "    print(\"Created folder 'data'\")\n",
    "\n",
    "with open(\"data/example.csv\", \"w\") as file:\n",
    "    file.write(\"This is my fake data\")\n",
    "\n",
    "# Create first two\n",
    "Fibonacci = [1,1]\n",
    "\n",
    "while len(Fibonacci) < 20:\n",
    "    # Calculate next digit in sequence\n",
    "    n = Fibonacci[-1] + Fibonacci[-2]\n",
    "\n",
    "    # Append to list\n",
    "    Fibonacci.append(n)\n",
    "\n",
    "print(Fibonacci)\n",
    "\n",
    "for n in Fibonacci:\n",
    "    print(n)"
   ]
  },
  {
   "cell_type": "markdown",
   "metadata": {},
   "source": [
    "There's a few additional functions we can employ for `for` loops. The first is `enumerate()`, which allows us to keep track of which iteration we're up to"
   ]
  },
  {
   "cell_type": "code",
   "execution_count": 141,
   "metadata": {},
   "outputs": [
    {
     "name": "stdout",
     "output_type": "stream",
     "text": [
      "Our current working directory is c:\\Users\\uqcwest5\\OneDrive - The University of Queensland\\Tech Training\\technology-training\\Python\\archive\\revamp\\5-python_toolkit\n",
      "Inside our working directory the files/folders are ['.vscode', 'data', 'python_toolkit.ipynb', 'simple_io.py', '__pycache__']\n",
      "\n",
      "The folder 'data' is already in our current working directory.\n",
      "[1, 1, 2, 3, 5, 8, 13, 21, 34, 55, 89, 144, 233, 377, 610, 987, 1597, 2584, 4181, 6765]\n",
      "Fib number 0 is 1\n",
      "Fib number 1 is 1\n",
      "Fib number 2 is 2\n",
      "Fib number 3 is 3\n",
      "Fib number 4 is 5\n",
      "Fib number 5 is 8\n",
      "Fib number 6 is 13\n",
      "Fib number 7 is 21\n",
      "Fib number 8 is 34\n",
      "Fib number 9 is 55\n",
      "Fib number 10 is 89\n",
      "Fib number 11 is 144\n",
      "Fib number 12 is 233\n",
      "Fib number 13 is 377\n",
      "Fib number 14 is 610\n",
      "Fib number 15 is 987\n",
      "Fib number 16 is 1597\n",
      "Fib number 17 is 2584\n",
      "Fib number 18 is 4181\n",
      "Fib number 19 is 6765\n"
     ]
    }
   ],
   "source": [
    "import os\n",
    "\n",
    "print(\"Our current working directory is\", os.getcwd())\n",
    "print(\"Inside our working directory the files/folders are\", os.listdir())\n",
    "\n",
    "# Check if \"data\" is inside our CWD\n",
    "if \"data\" in os.listdir():\n",
    "    print()\n",
    "    print(\"The folder 'data' is already in our current working directory.\")\n",
    "\n",
    "else:\n",
    "    os.mkdir(\"data\")\n",
    "    print()\n",
    "    print(\"Created folder 'data'\")\n",
    "\n",
    "with open(\"data/example.csv\", \"w\") as file:\n",
    "    file.write(\"This is my fake data\")\n",
    "\n",
    "# Create first two\n",
    "Fibonacci = [1,1]\n",
    "\n",
    "while len(Fibonacci) < 20:\n",
    "    # Calculate next digit in sequence\n",
    "    n = Fibonacci[-1] + Fibonacci[-2]\n",
    "\n",
    "    # Append to list\n",
    "    Fibonacci.append(n)\n",
    "\n",
    "print(Fibonacci)\n",
    "\n",
    "for i, n in enumerate(Fibonacci):\n",
    "    print(\"Fib number\", i,\"is\", n)"
   ]
  },
  {
   "cell_type": "markdown",
   "metadata": {},
   "source": [
    "The second is `zip()`, which allows us to iterate through two sequences simultaneously."
   ]
  },
  {
   "cell_type": "code",
   "execution_count": 140,
   "metadata": {},
   "outputs": [
    {
     "name": "stdout",
     "output_type": "stream",
     "text": [
      "Our current working directory is c:\\Users\\uqcwest5\\OneDrive - The University of Queensland\\Tech Training\\technology-training\\Python\\archive\\revamp\\5-python_toolkit\n",
      "Inside our working directory the files/folders are ['.vscode', 'data', 'python_toolkit.ipynb', 'simple_io.py', '__pycache__']\n",
      "\n",
      "The folder 'data' is already in our current working directory.\n",
      "[1, 1, 2, 3, 5, 8, 13, 21, 34, 55, 89, 144, 233, 377, 610, 987, 1597, 2584, 4181, 6765]\n",
      "1.0\n",
      "2.0\n",
      "1.5\n",
      "1.6666666666666667\n",
      "1.6\n",
      "1.625\n",
      "1.6153846153846154\n",
      "1.619047619047619\n",
      "1.6176470588235294\n",
      "1.6181818181818182\n",
      "1.6179775280898876\n",
      "1.6180555555555556\n",
      "1.6180257510729614\n",
      "1.6180371352785146\n",
      "1.618032786885246\n",
      "1.618034447821682\n",
      "1.6180338134001253\n",
      "1.618034055727554\n",
      "1.6180339631667064\n"
     ]
    }
   ],
   "source": [
    "import os\n",
    "\n",
    "print(\"Our current working directory is\", os.getcwd())\n",
    "print(\"Inside our working directory the files/folders are\", os.listdir())\n",
    "\n",
    "# Check if \"data\" is inside our CWD\n",
    "if \"data\" in os.listdir():\n",
    "    print()\n",
    "    print(\"The folder 'data' is already in our current working directory.\")\n",
    "\n",
    "else:\n",
    "    os.mkdir(\"data\")\n",
    "    print()\n",
    "    print(\"Created folder 'data'\")\n",
    "\n",
    "with open(\"data/example.csv\", \"w\") as file:\n",
    "    file.write(\"This is my fake data\")\n",
    "\n",
    "# Create first two\n",
    "Fibonacci = [1,1]\n",
    "\n",
    "while len(Fibonacci) < 20:\n",
    "    # Calculate next digit in sequence\n",
    "    n = Fibonacci[-1] + Fibonacci[-2]\n",
    "\n",
    "    # Append to list\n",
    "    Fibonacci.append(n)\n",
    "\n",
    "print(Fibonacci)\n",
    "\n",
    "for a, b in zip(Fibonacci[1:], Fibonacci):\n",
    "    print(a/b)"
   ]
  },
  {
   "cell_type": "markdown",
   "metadata": {},
   "source": [
    "### Activity 1\n",
    "\n",
    "Returning to our I/O code, recall that we can write to files with\n",
    "\n",
    "```python\n",
    "with open(\"filepath\", \"w\") as file:\n",
    "    file.write(\"Output\")\n",
    "```\n",
    "\n",
    "Your challenge is to create a new file, inside our data folder, which stores the first 20 fibonacci numbers. Perfecting the output will take some trial and error:\n",
    "\n",
    "1. Use `str(...)` to convert any variable into a string. This might help if you encounter any `TypeError`s...\n",
    "2. To adjust the output, consider including a space `\" \"`, comma `\",\"`, or newline `\"\\n\"` in your function\n",
    "\n",
    "> By putting our output into a file, we can restore the Fibonacci sequence without needing to compute it again."
   ]
  },
  {
   "cell_type": "code",
   "execution_count": null,
   "metadata": {},
   "outputs": [
    {
     "name": "stdout",
     "output_type": "stream",
     "text": [
      "Our current working directory is c:\\Users\\uqcwest5\\OneDrive - The University of Queensland\\Tech Training\\technology-training\\Python\\archive\\revamp\\5-python_toolkit\n",
      "Inside our working directory the files/folders are ['.vscode', 'data', 'python_toolkit.ipynb', 'simple_io.py', '__pycache__']\n",
      "\n",
      "The folder 'data' is already in our current working directory.\n",
      "\n",
      "[1, 1, 2, 3, 5, 8, 13, 21, 34, 55, 89, 144, 233, 377, 610, 987, 1597, 2584, 4181, 6765]\n",
      "\n",
      "Fibonacci sequence stored in 'data/fibonacci.csv'\n",
      "\n"
     ]
    }
   ],
   "source": [
    "import os\n",
    "\n",
    "print(\"Our current working directory is\", os.getcwd())\n",
    "print(\"Inside our working directory the files/folders are\", os.listdir())\n",
    "\n",
    "# Check if \"data\" is inside our CWD\n",
    "if \"data\" in os.listdir():\n",
    "    print()\n",
    "    print(\"The folder 'data' is already in our current working directory.\")\n",
    "\n",
    "else:\n",
    "    os.mkdir(\"data\")\n",
    "    print()\n",
    "    print(\"Created folder 'data'\")\n",
    "\n",
    "with open(\"data/example.csv\", \"w\") as file:\n",
    "    file.write(\"This is my fake data\")\n",
    "\n",
    "# Create first two\n",
    "Fibonacci = [1,1]\n",
    "\n",
    "while len(Fibonacci) < 20:\n",
    "    # Calculate next digit in sequence\n",
    "    n = Fibonacci[-1] + Fibonacci[-2]\n",
    "\n",
    "    # Append to list\n",
    "    Fibonacci.append(n)\n",
    "\n",
    "print()\n",
    "print(Fibonacci)\n",
    "print()\n",
    "\n",
    "# Solution\n",
    "with open(\"data/fibonacci.csv\", \"w\") as file:\n",
    "    for n in Fibonacci:\n",
    "        file.write(str(n)+\"\\n\")\n",
    "    \n",
    "    print(\"Fibonacci sequence stored in 'data/fibonacci.csv'\")\n",
    "    print()\n"
   ]
  },
  {
   "cell_type": "markdown",
   "metadata": {},
   "source": [
    "## Functions\n",
    "\n",
    "We can store sections of code in functions if we want to use them multiple times. For example, we write to files twice in the code above. Let's make a file writer function.\n",
    "\n",
    "```python\n",
    "def\n",
    "return\n",
    "positional vs kwargs\n",
    "** and *\n",
    "lambda ?\n",
    "```"
   ]
  },
  {
   "cell_type": "code",
   "execution_count": 148,
   "metadata": {},
   "outputs": [
    {
     "name": "stdout",
     "output_type": "stream",
     "text": [
      "Our current working directory is c:\\Users\\uqcwest5\\OneDrive - The University of Queensland\\Tech Training\\technology-training\\Python\\archive\\revamp\\5-python_toolkit\n",
      "Inside our working directory the files/folders are ['.vscode', 'data', 'python_toolkit.ipynb', 'simple_io.py', '__pycache__']\n",
      "\n",
      "The folder 'data' is already in our current working directory.\n",
      "Fibonacci sequence stored in 'data/fibonacci.csv'\n",
      "\n"
     ]
    }
   ],
   "source": [
    "import os\n",
    "\n",
    "def write(path, contents, mode = \"a\"):\n",
    "    with open(path, mode) as file:\n",
    "        file.write(contents)\n",
    "\n",
    "def fib_i(i):\n",
    "    Fibonacci = [1,1]\n",
    "\n",
    "    while len(Fibonacci) < i:\n",
    "        # Calculate next digit in sequence\n",
    "        n = Fibonacci[-1] + Fibonacci[-2]\n",
    "\n",
    "        # Append to list\n",
    "        Fibonacci.append(n)\n",
    "\n",
    "    return Fibonacci[-1]\n",
    "\n",
    "print(\"Our current working directory is\", os.getcwd())\n",
    "print(\"Inside our working directory the files/folders are\", os.listdir())\n",
    "\n",
    "# Check if \"data\" is inside our CWD\n",
    "if \"data\" in os.listdir():\n",
    "    print()\n",
    "    print(\"The folder 'data' is already in our current working directory.\")\n",
    "\n",
    "else:\n",
    "    os.mkdir(\"data\")\n",
    "    print()\n",
    "    print(\"Created folder 'data'\")\n",
    "\n",
    "write(\"data/example.csv\", \"This is my fake data\", \"w\")\n",
    "\n",
    "# Save fib\n",
    "write(\"data/fibonacci.csv\", \"\", \"w\")\n",
    "for i in range(0,30):\n",
    "    write(\"data/fibonacci.csv\", str(fib_i(i)) + \"\\n\")\n",
    "\n",
    "print(\"Fibonacci sequence stored in 'data/fibonacci.csv'\")\n",
    "print()\n"
   ]
  },
  {
   "cell_type": "markdown",
   "metadata": {},
   "source": [
    "\n",
    "### Docstrings and documentation"
   ]
  },
  {
   "cell_type": "code",
   "execution_count": 151,
   "metadata": {},
   "outputs": [
    {
     "name": "stdout",
     "output_type": "stream",
     "text": [
      "Our current working directory is c:\\Users\\uqcwest5\\OneDrive - The University of Queensland\\Tech Training\\technology-training\\Python\\archive\\revamp\\5-python_toolkit\n",
      "Inside our working directory the files/folders are ['.vscode', 'data', 'python_toolkit.ipynb', 'simple_io.py', '__pycache__']\n",
      "\n",
      "The folder 'data' is already in our current working directory.\n",
      "Fibonacci sequence stored in 'data/fibonacci.csv'\n",
      "\n",
      "Help on function write in module __main__:\n",
      "\n",
      "write(path, contents, mode='a')\n",
      "    Writes 'contents' to the file at 'path'. 'mode' is passed to open()\n",
      "\n",
      "Help on function fib_i in module __main__:\n",
      "\n",
      "fib_i(i)\n",
      "    Calculates the ith element of the Fibonacci sequence.\n",
      "\n"
     ]
    }
   ],
   "source": [
    "import os\n",
    "\n",
    "def write(path, contents, mode = \"a\"):\n",
    "    \"\"\"Writes 'contents' to the file at 'path'. 'mode' is passed to open()\"\"\"\n",
    "    with open(path, mode) as file:\n",
    "        file.write(contents)\n",
    "\n",
    "def fib_i(i):\n",
    "    \"\"\"Calculates the ith element of the Fibonacci sequence.\"\"\"\n",
    "    Fibonacci = [1,1]\n",
    "\n",
    "    while len(Fibonacci) < i:\n",
    "        # Calculate next digit in sequence\n",
    "        n = Fibonacci[-1] + Fibonacci[-2]\n",
    "\n",
    "        # Append to list\n",
    "        Fibonacci.append(n)\n",
    "\n",
    "    return Fibonacci[-1]\n",
    "\n",
    "print(\"Our current working directory is\", os.getcwd())\n",
    "print(\"Inside our working directory the files/folders are\", os.listdir())\n",
    "\n",
    "# Check if \"data\" is inside our CWD\n",
    "if \"data\" in os.listdir():\n",
    "    print()\n",
    "    print(\"The folder 'data' is already in our current working directory.\")\n",
    "\n",
    "else:\n",
    "    os.mkdir(\"data\")\n",
    "    print()\n",
    "    print(\"Created folder 'data'\")\n",
    "\n",
    "write(\"data/example.csv\", \"This is my fake data\", \"w\")\n",
    "\n",
    "# Save fib\n",
    "write(\"data/fibonacci.csv\", \"\", \"w\")\n",
    "for i in range(0,30):\n",
    "    write(\"data/fibonacci.csv\", str(fib_i(i)) + \"\\n\")\n",
    "\n",
    "print(\"Fibonacci sequence stored in 'data/fibonacci.csv'\")\n",
    "print()\n",
    "\n",
    "help(write)\n",
    "\n",
    "help(fib_i)\n",
    "\n"
   ]
  },
  {
   "cell_type": "markdown",
   "metadata": {},
   "source": [
    "## Modules and Python Environments\n",
    "\n",
    "```python\n",
    "import\n",
    "from import\n",
    "__init__, etc.\n",
    "```"
   ]
  },
  {
   "cell_type": "code",
   "execution_count": null,
   "metadata": {},
   "outputs": [
    {
     "name": "stdout",
     "output_type": "stream",
     "text": [
      "Our current working directory is c:\\Users\\uqcwest5\\OneDrive - The University of Queensland\\Tech Training\\technology-training\\Python\\archive\\revamp\\5-python_toolkit\n",
      "Inside our working directory the files/folders are ['.vscode', 'data', 'python_toolkit.ipynb', 'simple_io.py', '__pycache__']\n",
      "\n",
      "The folder 'data' is already in our current working directory.\n",
      "Fibonacci sequence stored in 'data/fibonacci.csv'\n",
      "\n"
     ]
    }
   ],
   "source": [
    "import os\n",
    "import simple_io as io\n",
    "\n",
    "print(\"Our current working directory is\", os.getcwd())\n",
    "print(\"Inside our working directory the files/folders are\", os.listdir())\n",
    "\n",
    "# Check if \"data\" is inside our CWD\n",
    "if \"data\" in os.listdir():\n",
    "    print()\n",
    "    print(\"The folder 'data' is already in our current working directory.\")\n",
    "\n",
    "else:\n",
    "    os.mkdir(\"data\")\n",
    "    print()\n",
    "    print(\"Created folder 'data'\")\n",
    "\n",
    "write(\"data/example.csv\", \"This is my fake data\", \"w\")\n",
    "\n",
    "# Save fib\n",
    "io.write(\"data/fibonacci.csv\", \"\", \"w\")\n",
    "for i in range(0,30):\n",
    "    io.write(\"data/fibonacci.csv\", str(io.fib_i(i)) + \"\\n\")\n",
    "\n",
    "print(\"Fibonacci sequence stored in 'data/fibonacci.csv'\")\n",
    "print()\n",
    "\n"
   ]
  },
  {
   "cell_type": "markdown",
   "metadata": {},
   "source": [
    "## Activity 2\n",
    "\n",
    "Create a module"
   ]
  },
  {
   "cell_type": "markdown",
   "metadata": {},
   "source": [
    "## Classes (Methods and Attributes)\n",
    "\n",
    "```python\n",
    "class (briefly)\n",
    ".\n",
    "methods and attributes vs functions and variables"
   ]
  },
  {
   "cell_type": "markdown",
   "metadata": {},
   "source": [
    "## Fancy variable types\n",
    "\n",
    "- Dictionaries\n",
    "- List comprehensions"
   ]
  },
  {
   "cell_type": "markdown",
   "metadata": {},
   "source": [
    "## Dealing with bugs\n",
    "\n",
    "```python\n",
    "assert\n",
    "raise\n",
    "try\n",
    "except\n",
    "else\n",
    "finally\n",
    "```"
   ]
  },
  {
   "cell_type": "markdown",
   "metadata": {},
   "source": [
    "## Extended Activity"
   ]
  },
  {
   "cell_type": "markdown",
   "metadata": {},
   "source": [
    "##"
   ]
  },
  {
   "cell_type": "markdown",
   "metadata": {},
   "source": [
    "## Modules"
   ]
  },
  {
   "cell_type": "markdown",
   "metadata": {},
   "source": [
    "## What *is* a variable type?"
   ]
  },
  {
   "cell_type": "markdown",
   "metadata": {},
   "source": [
    "## I/O and managing your filesystem"
   ]
  },
  {
   "cell_type": "markdown",
   "metadata": {},
   "source": [
    "## Python environments and installations"
   ]
  },
  {
   "cell_type": "markdown",
   "metadata": {},
   "source": [
    "## What next?"
   ]
  }
 ],
 "metadata": {
  "kernelspec": {
   "display_name": "Python 3",
   "language": "python",
   "name": "python3"
  },
  "language_info": {
   "codemirror_mode": {
    "name": "ipython",
    "version": 3
   },
   "file_extension": ".py",
   "mimetype": "text/x-python",
   "name": "python",
   "nbconvert_exporter": "python",
   "pygments_lexer": "ipython3",
   "version": "3.12.1"
  }
 },
 "nbformat": 4,
 "nbformat_minor": 2
}
