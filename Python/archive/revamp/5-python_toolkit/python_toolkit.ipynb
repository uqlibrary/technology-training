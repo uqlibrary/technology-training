{
 "cells": [
  {
   "cell_type": "markdown",
   "metadata": {},
   "source": [
    "# Python Toolkit\n",
    "\n",
    "In this final session, we take a look at the Python building blocks that you'll want to have in your toolkit. This includes:\n",
    "\n",
    "- Loops\n",
    "- Functions\n",
    "- Modules\n",
    "- Understanding methods/attributes vs functions/variables (i.e., classes)\n",
    "- Useful methods (e.g. string methods, list methods)\n",
    "- I/O and filesystem (using `os` and `sys`)\n",
    "- Managing your Python installation (environment, kernel etc.)"
   ]
  }
 ],
 "metadata": {
  "language_info": {
   "name": "python"
  }
 },
 "nbformat": 4,
 "nbformat_minor": 2
}
