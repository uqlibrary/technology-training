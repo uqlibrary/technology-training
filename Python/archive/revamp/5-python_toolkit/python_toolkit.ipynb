{
 "cells": [
  {
   "cell_type": "markdown",
   "metadata": {},
   "source": [
    "# Python Toolkit\n",
    "\n",
    "In this standalone, we take a look at the Python building blocks that you'll want to have in your toolkit. This includes:\n",
    "\n",
    "- Loops\n",
    "- Functions\n",
    "- Modules\n",
    "- Understanding methods/attributes vs functions/variables (i.e., classes)\n",
    "- Useful methods (e.g. string methods, list methods)\n",
    "- I/O and filesystem (using `os` and `sys`)\n",
    "- Managing your Python installation (environment, kernel etc.)\n",
    "\n",
    "We'll work by procedurally building up a bigger and bigger program, containing all the features we cover. That way you've got them all in context"
   ]
  },
  {
   "cell_type": "markdown",
   "metadata": {},
   "source": [
    "## Starting with `os`\n",
    "\n",
    "We'll begin today by diving into an unusual starting point: the `os` module. Python comes with a built in module called `os` (short for operating system) which allows you to interact with your computer. Let's start by importing it"
   ]
  },
  {
   "cell_type": "code",
   "execution_count": null,
   "metadata": {},
   "outputs": [
    {
     "data": {
      "text/plain": [
       "'c:\\\\Users\\\\uqcwest5\\\\OneDrive - The University of Queensland\\\\Tech Training\\\\technology-training\\\\Python\\\\archive\\\\revamp\\\\5-python_toolkit'"
      ]
     },
     "execution_count": 17,
     "metadata": {},
     "output_type": "execute_result"
    }
   ],
   "source": [
    "import os"
   ]
  },
  {
   "cell_type": "markdown",
   "metadata": {},
   "source": [
    "This links our Python environment to the `os` module so we can now access code from it. Let's start by using it to print a message, informing us of where we're currently working.\n",
    "\n",
    "To access anything from inside a module, we use the `.` operator. The `getcwd()` function returns the current working directory (*\"home\"*). To print it:"
   ]
  },
  {
   "cell_type": "code",
   "execution_count": 18,
   "metadata": {},
   "outputs": [
    {
     "name": "stdout",
     "output_type": "stream",
     "text": [
      "c:\\Users\\uqcwest5\\OneDrive - The University of Queensland\\Tech Training\\technology-training\\Python\\archive\\revamp\\5-python_toolkit\n"
     ]
    }
   ],
   "source": [
    "import os\n",
    "\n",
    "print(os.getcwd())"
   ]
  },
  {
   "cell_type": "markdown",
   "metadata": {},
   "source": [
    "Let's do one better and include a message. The built in `print()` function takes multiple inputs, printing them all to the screen with a space between them."
   ]
  },
  {
   "cell_type": "code",
   "execution_count": null,
   "metadata": {},
   "outputs": [
    {
     "name": "stdout",
     "output_type": "stream",
     "text": [
      "Our current working directory is: c:\\Users\\uqcwest5\\OneDrive - The University of Queensland\\Tech Training\\technology-training\\Python\\archive\\revamp\\5-python_toolkit\n"
     ]
    }
   ],
   "source": [
    "import os\n",
    "\n",
    "print(\"Our current working directory is\", os.getcwd())"
   ]
  },
  {
   "cell_type": "markdown",
   "metadata": {},
   "source": [
    "Finally, we'll take a look at the `os.listdir()` function. This lists all the files (including folders) at a location in our file system. By default, it looks at the current working directory. Let's print a message identifying the files and folders:"
   ]
  },
  {
   "cell_type": "code",
   "execution_count": null,
   "metadata": {},
   "outputs": [
    {
     "name": "stdout",
     "output_type": "stream",
     "text": [
      "Our current working directory is c:\\Users\\uqcwest5\\OneDrive - The University of Queensland\\Tech Training\\technology-training\\Python\\archive\\revamp\\5-python_toolkit\n",
      "Inside our working directory the files/folders are ['files', 'python_toolkit.ipynb']\n"
     ]
    }
   ],
   "source": [
    "import os\n",
    "\n",
    "print(\"Our current working directory is\", os.getcwd())\n",
    "print(\"Inside our working directory the files/folders are\", os.listdir())"
   ]
  },
  {
   "cell_type": "markdown",
   "metadata": {},
   "source": [
    "This is a good place to start today's session. We'll now look at conditionals, before returning to our files."
   ]
  },
  {
   "cell_type": "markdown",
   "metadata": {},
   "source": [
    "\n",
    "\n",
    "```python\n",
    "if\n",
    "elif\n",
    "else\n",
    "for\n",
    "while\n",
    "continue\n",
    "break\n",
    "else in for??\n",
    "match\n",
    "case\n",
    "```\n",
    "\n",
    "## Conditionals\n",
    "\n",
    "Conditionals and loops are the **control flow tools** every Python programmer needs. The former consist of `if`, `elif` and `else`, and allow us to only run certain code when specific conditions are met.\n",
    "\n",
    "All conditionals start with an `if` command, which tells Python only to run the following **indented block** if the condition is `True`. The colon `:` is **essential** as it marks the beginning of an indentation.\n",
    "\n",
    "```python\n",
    "if condition:\n",
    "    # Code to run if condition is True\n",
    "```\n",
    "\n",
    "What constitutes a condition? Technically, anything that returns `True` or `False`. For example, \n",
    "\n",
    "- `1 == 1` is `True`, \n",
    "- `5 > 3` is `False`, \n",
    "- `\"a\" in \"apple\"` is `True` etc.\n",
    "\n",
    "Let's use a conditional to check whether we have the folder \"data\" in our current working directory. Recall that `os.listdir()` returned a list of the objects."
   ]
  },
  {
   "cell_type": "code",
   "execution_count": null,
   "metadata": {},
   "outputs": [
    {
     "name": "stdout",
     "output_type": "stream",
     "text": [
      "Our current working directory is c:\\Users\\uqcwest5\\OneDrive - The University of Queensland\\Tech Training\\technology-training\\Python\\archive\\revamp\\5-python_toolkit\n",
      "Inside our working directory the files/folders are ['python_toolkit.ipynb']\n"
     ]
    }
   ],
   "source": [
    "import os\n",
    "\n",
    "print(\"Our current working directory is\", os.getcwd())\n",
    "print(\"Inside our working directory the files/folders are\", os.listdir())\n",
    "\n",
    "# Check if \"data\" is inside our CWD\n",
    "if \"data\" in os.listdir():\n",
    "    print()\n",
    "    print(\"The folder 'data' is already in our current working directory.\")"
   ]
  },
  {
   "cell_type": "markdown",
   "metadata": {},
   "source": [
    "Hmm, there's no message. This means that the condition failed! To catch anything that fails, we can use the `else:` statement"
   ]
  },
  {
   "cell_type": "code",
   "execution_count": null,
   "metadata": {},
   "outputs": [
    {
     "name": "stdout",
     "output_type": "stream",
     "text": [
      "Our current working directory is c:\\Users\\uqcwest5\\OneDrive - The University of Queensland\\Tech Training\\technology-training\\Python\\archive\\revamp\\5-python_toolkit\n",
      "Inside our working directory the files/folders are ['python_toolkit.ipynb']\n",
      "\n",
      "The folder 'data' is NOT in our current working directory.\n"
     ]
    }
   ],
   "source": [
    "import os\n",
    "\n",
    "print(\"Our current working directory is\", os.getcwd())\n",
    "print(\"Inside our working directory the files/folders are\", os.listdir())\n",
    "\n",
    "# Check if \"data\" is inside our CWD\n",
    "if \"data\" in os.listdir():\n",
    "    print()\n",
    "    print(\"The folder 'data' is already in our current working directory.\")\n",
    "\n",
    "else:\n",
    "    print()\n",
    "    print(\"The folder 'data' is NOT in our current working directory.\")"
   ]
  },
  {
   "cell_type": "markdown",
   "metadata": {},
   "source": [
    "Let's use `os` to make the folder for us. The function `os.mkdir(\"folder_name\")` will produce it at our current location. We'll put this **inside the `else` section**, so we only make it if it doesn't exist."
   ]
  },
  {
   "cell_type": "code",
   "execution_count": 28,
   "metadata": {},
   "outputs": [
    {
     "name": "stdout",
     "output_type": "stream",
     "text": [
      "Our current working directory is c:\\Users\\uqcwest5\\OneDrive - The University of Queensland\\Tech Training\\technology-training\\Python\\archive\\revamp\\5-python_toolkit\n",
      "Inside our working directory the files/folders are ['python_toolkit.ipynb']\n",
      "\n",
      "Created folder 'data'\n"
     ]
    }
   ],
   "source": [
    "import os\n",
    "\n",
    "print(\"Our current working directory is\", os.getcwd())\n",
    "print(\"Inside our working directory the files/folders are\", os.listdir())\n",
    "\n",
    "# Check if \"data\" is inside our CWD\n",
    "if \"data\" in os.listdir():\n",
    "    print()\n",
    "    print(\"The folder 'data' is already in our current working directory.\")\n",
    "\n",
    "else:\n",
    "    os.mkdir(\"data\")\n",
    "    print()\n",
    "    print(\"Created folder 'data'\")"
   ]
  },
  {
   "cell_type": "markdown",
   "metadata": {},
   "source": [
    "If you want to include additional conditions, you can do that with `elif`\n",
    "\n",
    "```python\n",
    "if condition1:\n",
    "    # Runs if condition1 == True\n",
    "\n",
    "elif condition2:\n",
    "    # Runs if condition1 == False and condition2 == True\n",
    "\n",
    "elif condition3:\n",
    "    # Runs if condition1 == False\n",
    "    #     and condition2 == False\n",
    "    #     and condition3 == True\n",
    "\n",
    "elif ... :\n",
    "    # ...\n",
    "\n",
    "else:\n",
    "    # Runs if all conditions are False\n",
    "\n",
    "```\n",
    "\n",
    "We won't do that here."
   ]
  },
  {
   "cell_type": "markdown",
   "metadata": {},
   "source": [
    "Let's now think about populating our data folder with some spreadsheets. We can read/write to files with the `open()` function and we need to specify two things:\n",
    "\n",
    "```python\n",
    "file = open(\"file_path\", \"mode\")\n",
    "```\n",
    "\n",
    "where\n",
    "\n",
    "- `\"file_path\"` = the path to the file we want to open/create\n",
    "- `\"mode\"` = `\"r\"` (read), `\"w\"` (write), `\"a\"` (append), ...\n",
    "\n",
    "Because it doesn't exist yet, we need to use `\"w\"` for the mode.\n",
    "\n",
    "We'll make our example file in three steps:\n",
    "\n",
    "1. Open the file with `file = open(\"file_path\", \"mode\")`\n",
    "2. Write a message to the file with `file.write(...)`\n",
    "3. Close the file with `file.close()`"
   ]
  },
  {
   "cell_type": "code",
   "execution_count": 29,
   "metadata": {},
   "outputs": [
    {
     "name": "stdout",
     "output_type": "stream",
     "text": [
      "Our current working directory is c:\\Users\\uqcwest5\\OneDrive - The University of Queensland\\Tech Training\\technology-training\\Python\\archive\\revamp\\5-python_toolkit\n",
      "Inside our working directory the files/folders are ['data', 'python_toolkit.ipynb']\n",
      "\n",
      "The folder 'data' is already in our current working directory.\n"
     ]
    }
   ],
   "source": [
    "import os\n",
    "\n",
    "print(\"Our current working directory is\", os.getcwd())\n",
    "print(\"Inside our working directory the files/folders are\", os.listdir())\n",
    "\n",
    "# Check if \"data\" is inside our CWD\n",
    "if \"data\" in os.listdir():\n",
    "    print()\n",
    "    print(\"The folder 'data' is already in our current working directory.\")\n",
    "\n",
    "else:\n",
    "    os.mkdir(\"data\")\n",
    "    print()\n",
    "    print(\"Created folder 'data'\")\n",
    "\n",
    "file = open(\"data/example.csv\", \"w\")\n",
    "file.write(\"This is my fake data\")\n",
    "file.close()"
   ]
  },
  {
   "cell_type": "markdown",
   "metadata": {},
   "source": [
    "We can use special `with ... as ...` expressions instead of closing the file, which is better practice. Specifically,\n",
    "\n",
    "```python\n",
    "file = open(\"data/example.csv\", \"w\")\n",
    "file.write(\"example_content\")\n",
    "file.close()\n",
    "```\n",
    "\n",
    "is equivalent to\n",
    "```python\n",
    "with open(\"data/example.csv\", \"w\"):\n",
    "    file.write(\"example_content\")\n",
    "```\n",
    "\n",
    "That way you'll never run into file stream errors.\n"
   ]
  },
  {
   "cell_type": "code",
   "execution_count": 30,
   "metadata": {},
   "outputs": [
    {
     "name": "stdout",
     "output_type": "stream",
     "text": [
      "Our current working directory is c:\\Users\\uqcwest5\\OneDrive - The University of Queensland\\Tech Training\\technology-training\\Python\\archive\\revamp\\5-python_toolkit\n",
      "Inside our working directory the files/folders are ['data', 'python_toolkit.ipynb']\n",
      "\n",
      "The folder 'data' is already in our current working directory.\n"
     ]
    }
   ],
   "source": [
    "import os\n",
    "\n",
    "print(\"Our current working directory is\", os.getcwd())\n",
    "print(\"Inside our working directory the files/folders are\", os.listdir())\n",
    "\n",
    "# Check if \"data\" is inside our CWD\n",
    "if \"data\" in os.listdir():\n",
    "    print()\n",
    "    print(\"The folder 'data' is already in our current working directory.\")\n",
    "\n",
    "else:\n",
    "    os.mkdir(\"data\")\n",
    "    print()\n",
    "    print(\"Created folder 'data'\")\n",
    "\n",
    "with open(\"data/example.csv\", \"w\") as file:\n",
    "    file.write(\"This is my fake data\")"
   ]
  },
  {
   "cell_type": "markdown",
   "metadata": {},
   "source": [
    "It's pretty tedious to write one file at a time. What if we wanted to produce 100? Well, that's where loops come in.\n",
    "\n",
    "In Python, there are two types of loop: `while` and `for`. \n",
    "\n",
    "**`while` loops** repeat code until a condition fails.\n",
    "\n",
    "```python\n",
    "while condition:\n",
    "    # Code to run until condition == False\n",
    "```\n",
    "\n",
    "**`for` loops** repeat code by iterating through an object (like a list), running once for each element\n",
    "\n",
    "```python\n",
    "for element in obj:\n",
    "    # Run code once for each 'element' in 'obj'\n",
    "```\n",
    "\n",
    "We'll start by using a `while` loop. To produce 100 files, we'll need to loop **until there are 100 files in the folder**. Let's set it up, but make sure to include the command `break` - this will exit the loop, and stop us from hitting an infinite loop"
   ]
  },
  {
   "cell_type": "code",
   "execution_count": 42,
   "metadata": {},
   "outputs": [
    {
     "name": "stdout",
     "output_type": "stream",
     "text": [
      "Our current working directory is c:\\Users\\uqcwest5\\OneDrive - The University of Queensland\\Tech Training\\technology-training\\Python\\archive\\revamp\\5-python_toolkit\n",
      "Inside our working directory the files/folders are ['data', 'python_toolkit.ipynb']\n",
      "\n",
      "The folder 'data' is already in our current working directory.\n"
     ]
    }
   ],
   "source": [
    "import os\n",
    "\n",
    "print(\"Our current working directory is\", os.getcwd())\n",
    "print(\"Inside our working directory the files/folders are\", os.listdir())\n",
    "\n",
    "# Check if \"data\" is inside our CWD\n",
    "if \"data\" in os.listdir():\n",
    "    print()\n",
    "    print(\"The folder 'data' is already in our current working directory.\")\n",
    "\n",
    "else:\n",
    "    os.mkdir(\"data\")\n",
    "    print()\n",
    "    print(\"Created folder 'data'\")\n",
    "\n",
    "with open(\"data/example.csv\", \"w\") as file:\n",
    "        file.write(\"This is my fake data\")\n",
    "\n",
    "while len(os.listdir(\"data\")) < 100:\n",
    "    break"
   ]
  },
  {
   "cell_type": "markdown",
   "metadata": {},
   "source": [
    "We'll put our code where that `break` is. Keep it there until we're sure that the condition will eventually fail.\n",
    "\n",
    "In order to create 100 files, they will each need a unique name. Let's do that by including an ever-increasing parameter `i`, that starts as `1`. Don't remove the break just yet."
   ]
  },
  {
   "cell_type": "code",
   "execution_count": null,
   "metadata": {},
   "outputs": [
    {
     "name": "stdout",
     "output_type": "stream",
     "text": [
      "Our current working directory is c:\\Users\\uqcwest5\\OneDrive - The University of Queensland\\Tech Training\\technology-training\\Python\\archive\\revamp\\5-python_toolkit\n",
      "Inside our working directory the files/folders are ['data', 'python_toolkit.ipynb']\n",
      "\n",
      "The folder 'data' is already in our current working directory.\n",
      "1\n"
     ]
    }
   ],
   "source": [
    "import os\n",
    "\n",
    "print(\"Our current working directory is\", os.getcwd())\n",
    "print(\"Inside our working directory the files/folders are\", os.listdir())\n",
    "\n",
    "# Check if \"data\" is inside our CWD\n",
    "if \"data\" in os.listdir():\n",
    "    print()\n",
    "    print(\"The folder 'data' is already in our current working directory.\")\n",
    "\n",
    "else:\n",
    "    os.mkdir(\"data\")\n",
    "    print()\n",
    "    print(\"Created folder 'data'\")\n",
    "    \n",
    "\n",
    "with open(\"data/example.csv\", \"w\") as file:\n",
    "    file.write(\"This is my fake data\")\n",
    "\n",
    "i = 0\n",
    "while len(os.listdir(\"data\")) < 100:\n",
    "    i = i + 1  \n",
    "    \n",
    "    break\n",
    "\n",
    "print(i)"
   ]
  },
  {
   "cell_type": "markdown",
   "metadata": {},
   "source": [
    "Let's move our file creation code into the loop and adjust the file name."
   ]
  },
  {
   "cell_type": "code",
   "execution_count": null,
   "metadata": {},
   "outputs": [
    {
     "name": "stdout",
     "output_type": "stream",
     "text": [
      "Our current working directory is c:\\Users\\uqcwest5\\OneDrive - The University of Queensland\\Tech Training\\technology-training\\Python\\archive\\revamp\\5-python_toolkit\n",
      "Inside our working directory the files/folders are ['data', 'python_toolkit.ipynb']\n",
      "\n",
      "The folder 'data' is already in our current working directory.\n",
      "1\n"
     ]
    }
   ],
   "source": [
    "import os\n",
    "\n",
    "print(\"Our current working directory is\", os.getcwd())\n",
    "print(\"Inside our working directory the files/folders are\", os.listdir())\n",
    "\n",
    "# Check if \"data\" is inside our CWD\n",
    "if \"data\" in os.listdir():\n",
    "    print()\n",
    "    print(\"The folder 'data' is already in our current working directory.\")\n",
    "\n",
    "else:\n",
    "    os.mkdir(\"data\")\n",
    "    print()\n",
    "    print(\"Created folder 'data'\")\n",
    "    \n",
    "i = 0\n",
    "while len(os.listdir(\"data\")) < 100:\n",
    "    filepath = \"data/example\" + str(i) + \".csv\" \n",
    "\n",
    "    with open(filepath, \"w\") as file:\n",
    "        file.write(\"This is my fake data\")\n",
    "\n",
    "    i = i + 1  \n",
    "    \n",
    "    break"
   ]
  },
  {
   "cell_type": "markdown",
   "metadata": {},
   "source": [
    "Finally, try removing the `break`"
   ]
  },
  {
   "cell_type": "code",
   "execution_count": 51,
   "metadata": {},
   "outputs": [
    {
     "name": "stdout",
     "output_type": "stream",
     "text": [
      "Our current working directory is c:\\Users\\uqcwest5\\OneDrive - The University of Queensland\\Tech Training\\technology-training\\Python\\archive\\revamp\\5-python_toolkit\n",
      "Inside our working directory the files/folders are ['data', 'python_toolkit.ipynb']\n",
      "\n",
      "The folder 'data' is already in our current working directory.\n"
     ]
    }
   ],
   "source": [
    "import os\n",
    "\n",
    "print(\"Our current working directory is\", os.getcwd())\n",
    "print(\"Inside our working directory the files/folders are\", os.listdir())\n",
    "\n",
    "# Check if \"data\" is inside our CWD\n",
    "if \"data\" in os.listdir():\n",
    "    print()\n",
    "    print(\"The folder 'data' is already in our current working directory.\")\n",
    "\n",
    "else:\n",
    "    os.mkdir(\"data\")\n",
    "    print()\n",
    "    print(\"Created folder 'data'\")\n",
    "    \n",
    "i = 0\n",
    "while len(os.listdir(\"data\")) < 100:\n",
    "    filepath = \"data/example\" + str(i) + \".csv\" \n",
    "\n",
    "    with open(filepath, \"w\") as file:\n",
    "        file.write(\"This is my fake data\")\n",
    "\n",
    "    i = i + 1  "
   ]
  },
  {
   "cell_type": "markdown",
   "metadata": {},
   "source": [
    "Instantly, you've now got 100 new files! Let's print a message confirming the number of files that are inside the folder using the `len()` (short for length) function. We'll do it in three steps:\n",
    "\n",
    "1. Get the number of objects in \"files\" \n",
    "\n",
    "```python\n",
    "len(os.listdir(\"data\"))\n",
    "```\n",
    "\n",
    "2. Save it in a variable, \n",
    "\n",
    "```python\n",
    "objs_in_data = len(os.listdir(\"data\"))\n",
    "```\n",
    "\n",
    "3. Print a message"
   ]
  },
  {
   "cell_type": "code",
   "execution_count": null,
   "metadata": {},
   "outputs": [
    {
     "name": "stdout",
     "output_type": "stream",
     "text": [
      "Our current working directory is c:\\Users\\uqcwest5\\OneDrive - The University of Queensland\\Tech Training\\technology-training\\Python\\archive\\revamp\\5-python_toolkit\n",
      "Inside our working directory the files/folders are ['data', 'python_toolkit.ipynb']\n",
      "\n",
      "The folder 'data' is already in our current working directory.\n",
      "There are now 100 files in 'data'.\n"
     ]
    }
   ],
   "source": [
    "import os\n",
    "\n",
    "print(\"Our current working directory is\", os.getcwd())\n",
    "print(\"Inside our working directory the files/folders are\", os.listdir())\n",
    "\n",
    "# Check if \"data\" is inside our CWD\n",
    "if \"data\" in os.listdir():\n",
    "    print()\n",
    "    print(\"The folder 'data' is already in our current working directory.\")\n",
    "\n",
    "else:\n",
    "    os.mkdir(\"data\")\n",
    "    print()\n",
    "    print(\"Created folder 'data'\")\n",
    "    \n",
    "i = 0\n",
    "while len(os.listdir(\"data\")) < 100:\n",
    "    filepath = \"data/example\" + str(i) + \".csv\" \n",
    "\n",
    "    with open(filepath, \"w\") as file:\n",
    "        file.write(\"This is my fake data\")\n",
    "\n",
    "    i = i + 1  \n",
    "\n",
    "files_in_data = len(os.listdir(\"data\"))\n",
    "print(\"There are now\", files_in_data, \"files in 'data'.\")"
   ]
  },
  {
   "cell_type": "markdown",
   "metadata": {},
   "source": [
    "Let's turn now to `for` loops. With this kind of loop we run a block of code iteratively through a list. For example, we could loop through all the files we just created, extract the data, and combine it into one big file.\n",
    "\n",
    "First, let's create an empty file to store the combined data with `open(...).close()`"
   ]
  },
  {
   "cell_type": "code",
   "execution_count": 59,
   "metadata": {},
   "outputs": [
    {
     "name": "stdout",
     "output_type": "stream",
     "text": [
      "Our current working directory is c:\\Users\\uqcwest5\\OneDrive - The University of Queensland\\Tech Training\\technology-training\\Python\\archive\\revamp\\5-python_toolkit\n",
      "Inside our working directory the files/folders are ['combined.csv', 'data', 'python_toolkit.ipynb']\n",
      "\n",
      "The folder 'data' is already in our current working directory.\n",
      "There are now 100 files in 'data'.\n"
     ]
    }
   ],
   "source": [
    "import os\n",
    "\n",
    "print(\"Our current working directory is\", os.getcwd())\n",
    "print(\"Inside our working directory the files/folders are\", os.listdir())\n",
    "\n",
    "# Check if \"data\" is inside our CWD\n",
    "if \"data\" in os.listdir():\n",
    "    print()\n",
    "    print(\"The folder 'data' is already in our current working directory.\")\n",
    "\n",
    "else:\n",
    "    os.mkdir(\"data\")\n",
    "    print()\n",
    "    print(\"Created folder 'data'\")\n",
    "    \n",
    "i = 0\n",
    "while len(os.listdir(\"data\")) < 100:\n",
    "    filepath = \"data/example\" + str(i) + \".csv\" \n",
    "\n",
    "    with open(filepath, \"w\") as file:\n",
    "        file.write(\"This is my fake data\")\n",
    "\n",
    "    i = i + 1  \n",
    "\n",
    "files_in_data = len(os.listdir(\"data\"))\n",
    "print(\"There are now\", files_in_data, \"files in 'data'.\")\n",
    "\n",
    "# Create the empty file\n",
    "open(\"combined.csv\", \"w\").close()"
   ]
  },
  {
   "cell_type": "markdown",
   "metadata": {},
   "source": [
    "Next, we'll use `for` loop to iterate through the files in the folder. To set it up, let's just print each one out:"
   ]
  },
  {
   "cell_type": "code",
   "execution_count": 60,
   "metadata": {},
   "outputs": [
    {
     "name": "stdout",
     "output_type": "stream",
     "text": [
      "Our current working directory is c:\\Users\\uqcwest5\\OneDrive - The University of Queensland\\Tech Training\\technology-training\\Python\\archive\\revamp\\5-python_toolkit\n",
      "Inside our working directory the files/folders are ['combined.csv', 'data', 'python_toolkit.ipynb']\n",
      "\n",
      "The folder 'data' is already in our current working directory.\n",
      "There are now 100 files in 'data'.\n",
      "example.csv\n",
      "example0.csv\n",
      "example1.csv\n",
      "example10.csv\n",
      "example11.csv\n",
      "example12.csv\n",
      "example13.csv\n",
      "example14.csv\n",
      "example15.csv\n",
      "example16.csv\n",
      "example17.csv\n",
      "example18.csv\n",
      "example19.csv\n",
      "example2.csv\n",
      "example20.csv\n",
      "example21.csv\n",
      "example22.csv\n",
      "example23.csv\n",
      "example24.csv\n",
      "example25.csv\n",
      "example26.csv\n",
      "example27.csv\n",
      "example28.csv\n",
      "example29.csv\n",
      "example3.csv\n",
      "example30.csv\n",
      "example31.csv\n",
      "example32.csv\n",
      "example33.csv\n",
      "example34.csv\n",
      "example35.csv\n",
      "example36.csv\n",
      "example37.csv\n",
      "example38.csv\n",
      "example39.csv\n",
      "example4.csv\n",
      "example40.csv\n",
      "example41.csv\n",
      "example42.csv\n",
      "example43.csv\n",
      "example44.csv\n",
      "example45.csv\n",
      "example46.csv\n",
      "example47.csv\n",
      "example48.csv\n",
      "example49.csv\n",
      "example5.csv\n",
      "example50.csv\n",
      "example51.csv\n",
      "example52.csv\n",
      "example53.csv\n",
      "example54.csv\n",
      "example55.csv\n",
      "example56.csv\n",
      "example57.csv\n",
      "example58.csv\n",
      "example59.csv\n",
      "example6.csv\n",
      "example60.csv\n",
      "example61.csv\n",
      "example62.csv\n",
      "example63.csv\n",
      "example64.csv\n",
      "example65.csv\n",
      "example66.csv\n",
      "example67.csv\n",
      "example68.csv\n",
      "example69.csv\n",
      "example7.csv\n",
      "example70.csv\n",
      "example71.csv\n",
      "example72.csv\n",
      "example73.csv\n",
      "example74.csv\n",
      "example75.csv\n",
      "example76.csv\n",
      "example77.csv\n",
      "example78.csv\n",
      "example79.csv\n",
      "example8.csv\n",
      "example80.csv\n",
      "example81.csv\n",
      "example82.csv\n",
      "example83.csv\n",
      "example84.csv\n",
      "example85.csv\n",
      "example86.csv\n",
      "example87.csv\n",
      "example88.csv\n",
      "example89.csv\n",
      "example9.csv\n",
      "example90.csv\n",
      "example91.csv\n",
      "example92.csv\n",
      "example93.csv\n",
      "example94.csv\n",
      "example95.csv\n",
      "example96.csv\n",
      "example97.csv\n",
      "example98.csv\n"
     ]
    }
   ],
   "source": [
    "import os\n",
    "\n",
    "print(\"Our current working directory is\", os.getcwd())\n",
    "print(\"Inside our working directory the files/folders are\", os.listdir())\n",
    "\n",
    "# Check if \"data\" is inside our CWD\n",
    "if \"data\" in os.listdir():\n",
    "    print()\n",
    "    print(\"The folder 'data' is already in our current working directory.\")\n",
    "\n",
    "else:\n",
    "    os.mkdir(\"data\")\n",
    "    print()\n",
    "    print(\"Created folder 'data'\")\n",
    "    \n",
    "i = 0\n",
    "while len(os.listdir(\"data\")) < 100:\n",
    "    filepath = \"data/example\" + str(i) + \".csv\" \n",
    "\n",
    "    with open(filepath, \"w\") as file:\n",
    "        file.write(\"This is my fake data\")\n",
    "\n",
    "    i = i + 1  \n",
    "\n",
    "files_in_data = len(os.listdir(\"data\"))\n",
    "print(\"There are now\", files_in_data, \"files in 'data'.\")\n",
    "\n",
    "# Create the empty file\n",
    "open(\"combined.csv\", \"w\").close()\n",
    "\n",
    "for filename in os.listdir(\"data\"):\n",
    "    print(filename)"
   ]
  },
  {
   "cell_type": "markdown",
   "metadata": {},
   "source": [
    "To open them, we'll actually need the full filepaths"
   ]
  },
  {
   "cell_type": "code",
   "execution_count": null,
   "metadata": {},
   "outputs": [],
   "source": [
    "import os\n",
    "\n",
    "print(\"Our current working directory is\", os.getcwd())\n",
    "print(\"Inside our working directory the files/folders are\", os.listdir())\n",
    "\n",
    "# Check if \"data\" is inside our CWD\n",
    "if \"data\" in os.listdir():\n",
    "    print()\n",
    "    print(\"The folder 'data' is already in our current working directory.\")\n",
    "\n",
    "else:\n",
    "    os.mkdir(\"data\")\n",
    "    print()\n",
    "    print(\"Created folder 'data'\")\n",
    "    \n",
    "i = 0\n",
    "while len(os.listdir(\"data\")) < 100:\n",
    "    filepath = \"data/example\" + str(i) + \".csv\" \n",
    "\n",
    "    with open(filepath, \"w\") as file:\n",
    "        file.write(\"This is my fake data\")\n",
    "\n",
    "    i = i + 1  \n",
    "\n",
    "files_in_data = len(os.listdir(\"data\"))\n",
    "print(\"There are now\", files_in_data, \"files in 'data'.\")\n",
    "\n",
    "# Create the empty file\n",
    "open(\"combined.csv\", \"w\").close()\n",
    "\n",
    "for filename in os.listdir(\"data\"):\n",
    "    path = \"data/\" + filename\n",
    "    print(path)"
   ]
  },
  {
   "cell_type": "markdown",
   "metadata": {},
   "source": [
    "Finally, we'll use two `with ... as ...` statements to read and write the data. The first takes the data file and stores it into a variable:"
   ]
  },
  {
   "cell_type": "code",
   "execution_count": 63,
   "metadata": {},
   "outputs": [
    {
     "name": "stdout",
     "output_type": "stream",
     "text": [
      "Our current working directory is c:\\Users\\uqcwest5\\OneDrive - The University of Queensland\\Tech Training\\technology-training\\Python\\archive\\revamp\\5-python_toolkit\n",
      "Inside our working directory the files/folders are ['combined.csv', 'data', 'python_toolkit.ipynb']\n",
      "\n",
      "The folder 'data' is already in our current working directory.\n",
      "There are now 100 files in 'data'.\n",
      "This is my fake data\n",
      "This is my fake data\n",
      "This is my fake data\n",
      "This is my fake data\n",
      "This is my fake data\n",
      "This is my fake data\n",
      "This is my fake data\n",
      "This is my fake data\n",
      "This is my fake data\n",
      "This is my fake data\n",
      "This is my fake data\n",
      "This is my fake data\n",
      "This is my fake data\n",
      "This is my fake data\n",
      "This is my fake data\n",
      "This is my fake data\n",
      "This is my fake data\n",
      "This is my fake data\n",
      "This is my fake data\n",
      "This is my fake data\n",
      "This is my fake data\n",
      "This is my fake data\n",
      "This is my fake data\n",
      "This is my fake data\n",
      "This is my fake data\n",
      "This is my fake data\n",
      "This is my fake data\n",
      "This is my fake data\n",
      "This is my fake data\n",
      "This is my fake data\n",
      "This is my fake data\n",
      "This is my fake data\n",
      "This is my fake data\n",
      "This is my fake data\n",
      "This is my fake data\n",
      "This is my fake data\n",
      "This is my fake data\n",
      "This is my fake data\n",
      "This is my fake data\n",
      "This is my fake data\n",
      "This is my fake data\n",
      "This is my fake data\n",
      "This is my fake data\n",
      "This is my fake data\n",
      "This is my fake data\n",
      "This is my fake data\n",
      "This is my fake data\n",
      "This is my fake data\n",
      "This is my fake data\n",
      "This is my fake data\n",
      "This is my fake data\n",
      "This is my fake data\n",
      "This is my fake data\n",
      "This is my fake data\n",
      "This is my fake data\n",
      "This is my fake data\n",
      "This is my fake data\n",
      "This is my fake data\n",
      "This is my fake data\n",
      "This is my fake data\n",
      "This is my fake data\n",
      "This is my fake data\n",
      "This is my fake data\n",
      "This is my fake data\n",
      "This is my fake data\n",
      "This is my fake data\n",
      "This is my fake data\n",
      "This is my fake data\n",
      "This is my fake data\n",
      "This is my fake data\n",
      "This is my fake data\n",
      "This is my fake data\n",
      "This is my fake data\n",
      "This is my fake data\n",
      "This is my fake data\n",
      "This is my fake data\n",
      "This is my fake data\n",
      "This is my fake data\n",
      "This is my fake data\n",
      "This is my fake data\n",
      "This is my fake data\n",
      "This is my fake data\n",
      "This is my fake data\n",
      "This is my fake data\n",
      "This is my fake data\n",
      "This is my fake data\n",
      "This is my fake data\n",
      "This is my fake data\n",
      "This is my fake data\n",
      "This is my fake data\n",
      "This is my fake data\n",
      "This is my fake data\n",
      "This is my fake data\n",
      "This is my fake data\n",
      "This is my fake data\n",
      "This is my fake data\n",
      "This is my fake data\n",
      "This is my fake data\n",
      "This is my fake data\n",
      "This is my fake data\n"
     ]
    }
   ],
   "source": [
    "import os\n",
    "\n",
    "print(\"Our current working directory is\", os.getcwd())\n",
    "print(\"Inside our working directory the files/folders are\", os.listdir())\n",
    "\n",
    "# Check if \"data\" is inside our CWD\n",
    "if \"data\" in os.listdir():\n",
    "    print()\n",
    "    print(\"The folder 'data' is already in our current working directory.\")\n",
    "\n",
    "else:\n",
    "    os.mkdir(\"data\")\n",
    "    print()\n",
    "    print(\"Created folder 'data'\")\n",
    "    \n",
    "i = 0\n",
    "while len(os.listdir(\"data\")) < 100:\n",
    "    filepath = \"data/example\" + str(i) + \".csv\" \n",
    "\n",
    "    with open(filepath, \"w\") as file:\n",
    "        file.write(\"This is my fake data\")\n",
    "\n",
    "    i = i + 1  \n",
    "\n",
    "files_in_data = len(os.listdir(\"data\"))\n",
    "print(\"There are now\", files_in_data, \"files in 'data'.\")\n",
    "\n",
    "# Create the empty file\n",
    "open(\"combined.csv\", \"w\").close()\n",
    "\n",
    "for filename in os.listdir(\"data\"):\n",
    "    path = \"data/\" + filename\n",
    "\n",
    "    with open(path) as file:\n",
    "        data = file.read()\n",
    "    \n",
    "    print(data)"
   ]
  },
  {
   "cell_type": "markdown",
   "metadata": {},
   "source": [
    "The second takes that data and **appends** it to the file (hence `\"a\"`)"
   ]
  },
  {
   "cell_type": "code",
   "execution_count": 66,
   "metadata": {},
   "outputs": [
    {
     "name": "stdout",
     "output_type": "stream",
     "text": [
      "Our current working directory is c:\\Users\\uqcwest5\\OneDrive - The University of Queensland\\Tech Training\\technology-training\\Python\\archive\\revamp\\5-python_toolkit\n",
      "Inside our working directory the files/folders are ['combined.csv', 'data', 'python_toolkit.ipynb']\n",
      "\n",
      "The folder 'data' is already in our current working directory.\n",
      "There are now 100 files in 'data'.\n"
     ]
    }
   ],
   "source": [
    "import os\n",
    "\n",
    "print(\"Our current working directory is\", os.getcwd())\n",
    "print(\"Inside our working directory the files/folders are\", os.listdir())\n",
    "\n",
    "# Check if \"data\" is inside our CWD\n",
    "if \"data\" in os.listdir():\n",
    "    print()\n",
    "    print(\"The folder 'data' is already in our current working directory.\")\n",
    "\n",
    "else:\n",
    "    os.mkdir(\"data\")\n",
    "    print()\n",
    "    print(\"Created folder 'data'\")\n",
    "    \n",
    "i = 0\n",
    "while len(os.listdir(\"data\")) < 100:\n",
    "    filepath = \"data/example\" + str(i) + \".csv\" \n",
    "\n",
    "    with open(filepath, \"w\") as file:\n",
    "        file.write(\"This is my fake data\")\n",
    "\n",
    "    i = i + 1  \n",
    "\n",
    "files_in_data = len(os.listdir(\"data\"))\n",
    "print(\"There are now\", files_in_data, \"files in 'data'.\")\n",
    "\n",
    "# Create the empty file\n",
    "open(\"combined.csv\", \"w\").close()\n",
    "\n",
    "for filename in os.listdir(\"data\"):\n",
    "    path = \"data/\" + filename\n",
    "\n",
    "    with open(path) as file:\n",
    "        data = file.read()\n",
    "\n",
    "    with open(\"combined.csv\", \"a\") as file:\n",
    "        file.write(data)   \n"
   ]
  },
  {
   "cell_type": "markdown",
   "metadata": {},
   "source": [
    "Take a look at the file - it's now combined the data together! However, you probably want it on multiple lines. To do this, include a newline symbol `\"\\n\"` in the written data:"
   ]
  },
  {
   "cell_type": "code",
   "execution_count": 67,
   "metadata": {},
   "outputs": [
    {
     "name": "stdout",
     "output_type": "stream",
     "text": [
      "Our current working directory is c:\\Users\\uqcwest5\\OneDrive - The University of Queensland\\Tech Training\\technology-training\\Python\\archive\\revamp\\5-python_toolkit\n",
      "Inside our working directory the files/folders are ['combined.csv', 'data', 'python_toolkit.ipynb']\n",
      "\n",
      "The folder 'data' is already in our current working directory.\n",
      "There are now 100 files in 'data'.\n"
     ]
    }
   ],
   "source": [
    "import os\n",
    "\n",
    "print(\"Our current working directory is\", os.getcwd())\n",
    "print(\"Inside our working directory the files/folders are\", os.listdir())\n",
    "\n",
    "# Check if \"data\" is inside our CWD\n",
    "if \"data\" in os.listdir():\n",
    "    print()\n",
    "    print(\"The folder 'data' is already in our current working directory.\")\n",
    "\n",
    "else:\n",
    "    os.mkdir(\"data\")\n",
    "    print()\n",
    "    print(\"Created folder 'data'\")\n",
    "    \n",
    "i = 0\n",
    "while len(os.listdir(\"data\")) < 100:\n",
    "    filepath = \"data/example\" + str(i) + \".csv\" \n",
    "\n",
    "    with open(filepath, \"w\") as file:\n",
    "        file.write(\"This is my fake data\")\n",
    "\n",
    "    i = i + 1  \n",
    "\n",
    "files_in_data = len(os.listdir(\"data\"))\n",
    "print(\"There are now\", files_in_data, \"files in 'data'.\")\n",
    "\n",
    "# Create the empty file\n",
    "open(\"combined.csv\", \"w\").close()\n",
    "\n",
    "for filename in os.listdir(\"data\"):\n",
    "    path = \"data/\" + filename\n",
    "\n",
    "    with open(path) as file:\n",
    "        data = file.read()\n",
    "\n",
    "    with open(\"combined.csv\", \"a\") as file:\n",
    "        file.write(data + \"\\n\")   \n"
   ]
  },
  {
   "cell_type": "markdown",
   "metadata": {},
   "source": [
    "## Activity 1"
   ]
  },
  {
   "cell_type": "markdown",
   "metadata": {},
   "source": [
    "## Functions\n",
    "\n",
    "Notice that in the code above, we used the `with ... as ... ` blocks a few times? Let's\n",
    "\n",
    "```python\n",
    "def\n",
    "return\n",
    "positional vs kwargs\n",
    "** and *\n",
    "lambda ?\n",
    "```"
   ]
  },
  {
   "cell_type": "code",
   "execution_count": null,
   "metadata": {},
   "outputs": [
    {
     "name": "stdout",
     "output_type": "stream",
     "text": [
      "Our current working directory is c:\\Users\\uqcwest5\\OneDrive - The University of Queensland\\Tech Training\\technology-training\\Python\\archive\\revamp\\5-python_toolkit\n",
      "Inside our working directory the files/folders are ['combined.csv', 'data', 'python_toolkit.ipynb']\n",
      "\n",
      "The folder 'data' is already in our current working directory.\n",
      "There are now 100 files in 'data'.\n"
     ]
    }
   ],
   "source": [
    "import os\n",
    "\n",
    "def write(path, contents, mode = \"a\"):\n",
    "    with open(path, mode) as file:\n",
    "        file.write(contents)\n",
    "\n",
    "def read(path):\n",
    "    with open(path) as file:\n",
    "        return file.read()\n",
    "\n",
    "print(\"Our current working directory is\", os.getcwd())\n",
    "print(\"Inside our working directory the files/folders are\", os.listdir())\n",
    "\n",
    "# Check if \"data\" is inside our CWD\n",
    "if \"data\" in os.listdir():\n",
    "    print()\n",
    "    print(\"The folder 'data' is already in our current working directory.\")\n",
    "\n",
    "else:\n",
    "    os.mkdir(\"data\")\n",
    "    print()\n",
    "    print(\"Created folder 'data'\")\n",
    "    \n",
    "i = 0\n",
    "while len(os.listdir(\"data\")) < 100:\n",
    "    filepath = \"data/example\" + str(i) + \".csv\" \n",
    "\n",
    "    write(filepath, \"This is my fake data\", \"w\")\n",
    "\n",
    "    i = i + 1  \n",
    "\n",
    "files_in_data = len(os.listdir(\"data\"))\n",
    "print(\"There are now\", files_in_data, \"files in 'data'.\")\n",
    "\n",
    "# Create the empty file\n",
    "open(\"combined.csv\", \"w\").close()\n",
    "\n",
    "for filename in os.listdir(\"data\"):\n",
    "    path = \"data/\" + filename\n",
    "\n",
    "    data = read(path)\n",
    "\n",
    "    write(\"combined.csv\", data + \"\\n\")"
   ]
  },
  {
   "cell_type": "markdown",
   "metadata": {},
   "source": [
    "## Modules and Python Environments\n",
    "\n",
    "```python\n",
    "import\n",
    "from import\n",
    "__init__, etc.\n",
    "```"
   ]
  },
  {
   "cell_type": "code",
   "execution_count": 73,
   "metadata": {},
   "outputs": [
    {
     "name": "stdout",
     "output_type": "stream",
     "text": [
      "Our current working directory is c:\\Users\\uqcwest5\\OneDrive - The University of Queensland\\Tech Training\\technology-training\\Python\\archive\\revamp\\5-python_toolkit\n",
      "Inside our working directory the files/folders are ['combined.csv', 'data', 'python_toolkit.ipynb', 'simple_io.py', '__pycache__']\n",
      "\n",
      "The folder 'data' is already in our current working directory.\n",
      "There are now 100 files in 'data'.\n"
     ]
    }
   ],
   "source": [
    "import os\n",
    "\n",
    "import simple_io as io\n",
    "\n",
    "print(\"Our current working directory is\", os.getcwd())\n",
    "print(\"Inside our working directory the files/folders are\", os.listdir())\n",
    "\n",
    "# Check if \"data\" is inside our CWD\n",
    "if \"data\" in os.listdir():\n",
    "    print()\n",
    "    print(\"The folder 'data' is already in our current working directory.\")\n",
    "\n",
    "else:\n",
    "    os.mkdir(\"data\")\n",
    "    print()\n",
    "    print(\"Created folder 'data'\")\n",
    "    \n",
    "i = 0\n",
    "while len(os.listdir(\"data\")) < 100:\n",
    "    filepath = \"data/example\" + str(i) + \".csv\" \n",
    "\n",
    "    io.write(filepath, \"This is my fake data\", \"w\")\n",
    "\n",
    "    i = i + 1  \n",
    "\n",
    "files_in_data = len(os.listdir(\"data\"))\n",
    "print(\"There are now\", files_in_data, \"files in 'data'.\")\n",
    "\n",
    "# Create the empty file\n",
    "open(\"combined.csv\", \"w\").close()\n",
    "\n",
    "for filename in os.listdir(\"data\"):\n",
    "    path = \"data/\" + filename\n",
    "\n",
    "    data = io.read(path)\n",
    "\n",
    "    io.write(\"combined.csv\", data + \"\\n\")"
   ]
  },
  {
   "cell_type": "markdown",
   "metadata": {},
   "source": [
    "## Activity 2\n",
    "\n",
    "Create a module"
   ]
  },
  {
   "cell_type": "markdown",
   "metadata": {},
   "source": [
    "## Classes (Methods and Attributes)\n",
    "\n",
    "```python\n",
    "class (briefly)\n",
    ".\n",
    "methods and attributes vs functions and variables"
   ]
  },
  {
   "cell_type": "markdown",
   "metadata": {},
   "source": [
    "## Fancy variable types\n",
    "\n",
    "- Dictionaries\n",
    "- List comprehensions"
   ]
  },
  {
   "cell_type": "markdown",
   "metadata": {},
   "source": [
    "## Dealing with bugs\n",
    "\n",
    "```python\n",
    "assert\n",
    "raise\n",
    "try\n",
    "except\n",
    "else\n",
    "finally\n",
    "```"
   ]
  },
  {
   "cell_type": "markdown",
   "metadata": {},
   "source": [
    "## Extended Activity"
   ]
  },
  {
   "cell_type": "markdown",
   "metadata": {},
   "source": [
    "##"
   ]
  }
 ],
 "metadata": {
  "kernelspec": {
   "display_name": "Python 3",
   "language": "python",
   "name": "python3"
  },
  "language_info": {
   "codemirror_mode": {
    "name": "ipython",
    "version": 3
   },
   "file_extension": ".py",
   "mimetype": "text/x-python",
   "name": "python",
   "nbconvert_exporter": "python",
   "pygments_lexer": "ipython3",
   "version": "3.12.1"
  }
 },
 "nbformat": 4,
 "nbformat_minor": 2
}
