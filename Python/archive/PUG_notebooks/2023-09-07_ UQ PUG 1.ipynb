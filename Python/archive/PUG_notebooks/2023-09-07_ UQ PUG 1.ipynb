{
  "nbformat": 4,
  "nbformat_minor": 5,
  "metadata": {
    "kernel_info": {
      "name": "python3"
    },
    "noteable": {
      "last_transaction_id": "5aad7dd5-57a2-461d-8a90-2bf51cba0ec2"
    },
    "kernelspec": {
      "display_name": "Python 3.9",
      "language": "python",
      "name": "python3"
    },
    "selected_hardware_size": "small",
    "display_mode": "default"
  },
  "cells": [
    {
      "id": "cbe1d37d-17e7-4fd2-9c87-15e36c530fec",
      "cell_type": "markdown",
      "source": "# 2023-09-07: UQ PUG 1",
      "metadata": {
        "noteable": {
          "cell_type": "markdown"
        },
        "tags": [
          "show_line_numbers"
        ]
      }
    },
    {
      "id": "5177ce00-5468-445a-8543-72d1020a3fbd",
      "cell_type": "markdown",
      "source": "Welcome to UQ Python User Group! Check out our [general information](https://app.noteable.io/f/c84cf34f-03eb-48eb-aff4-ccf80b013b5c/UQ-PUG-General-Info.ipynb?cellID=1e2cf356) for details about who we are and what we do.\n\n## Structure\n1. We will start today by having everyone add their names to this page.\n1. Add your questions to this page.\n1. This Month's Presentation.\n1. Finally we will spend the rest of the session answering the questions you have brought!",
      "metadata": {
        "noteable": {
          "cell_type": "markdown"
        },
        "tags": [
          "show_line_numbers"
        ]
      }
    },
    {
      "id": "6b934fe2-2a4f-49ec-9039-0053d909fd64",
      "cell_type": "markdown",
      "source": "## This month's presentation\n\nWelcome to our first Python User Group gathering! This month, Luke and Cameron give an overview of the group, our vision and Noteable, the interactive collaborative notebook platform which can run markdown, Python, R and SQL. ",
      "metadata": {
        "noteable": {
          "cell_type": "markdown"
        },
        "tags": [
          "show_line_numbers"
        ]
      }
    },
    {
      "id": "9df272dd-b086-4f5d-a356-58cf1da925f6",
      "cell_type": "markdown",
      "source": "## Introduce yourself\n| What's your name? | Where are you from? | Why are you here? | \n| --- | --- | --- |\n|Luke |Library |Learn |\n|Nick |Library |Learn |\n|Valentina Urrutia Guada |Library |Learn |\n|Nida  |School of Molecular Biology |(1) Understanding the logic (in some codes) for bioinformatics and metagenomics application, (2) Learn how to visualize data in python that is hard to do in excel |\n| Cameron | Library | Learn |\n|Sam Hames |  School of Languages and Cultures| Community|\n|Nikhil |School of EECS | Learn|\n| Paul Vrbik | EECS | Support |\n| Jason Dail| SENV |  Learn |\n|Annie Nguyen |SENV | Learn :)| \n",
      "metadata": {
        "noteable": {
          "cell_type": "markdown"
        },
        "tags": [
          "show_line_numbers"
        ]
      }
    },
    {
      "id": "900a30ac-b005-4a84-a49a-2c743aa86783",
      "cell_type": "markdown",
      "source": "## Research tools\n\nHere are a few links we shared around, mostly from Jason.\n\n1.  [to assist with academic citations](https://scite.ai/)\n\n1.  https://researchrabbitapp.com/home  helpful when making research collections, mapping concepts, and looking at the linkages between references\n1.  https://consensus.app/\n1.  https://chat.openai.com/\n1.  https://article-summarizer.scholarcy.com/summarizer\n1. https://typeset.io/ AI assistant for reading and understanding papers\n1. https://www.listendata.com/2023/03/how-to-run-chatgpt-inside-excel.html (excel extension for chat GPT how-to)\n1. EECS tutor help: https://eecs.uq.edu.au/current-students/eecs-learning-centre-tutors",
      "metadata": {
        "noteable": {
          "cell_type": "markdown"
        }
      }
    },
    {
      "id": "b0184e3c-0b20-4c3f-a090-40bb06bcf366",
      "cell_type": "markdown",
      "source": "## Questions\n\nIf you have any Python questions you'd like to explore with the group, please put them in a markdown cell, with any code you'd like us to run in a Python cell.",
      "metadata": {
        "noteable": {
          "cell_type": "markdown"
        },
        "tags": [
          "show_line_numbers"
        ]
      }
    },
    {
      "id": "65c4506f-fa66-4601-9277-41c12bb91e1a",
      "cell_type": "markdown",
      "source": "### Question 1 - Finding substrings for COVID sequencing - **Note that the formatting has not transferred correctly here** Nida\n\nNida has a problem where she needs to identify specific substrings from a large sequence of characters (DNA sequence). Her code is below\n\nI just found out that the code:\n\n `covid_seq = getSequence('MN908947', 'genbank', DNA_Alphabet)` \n\nis actually trying to get a DNA sequence of covid from genbank & will give output of a string containing 29,900 characters (that we can actually see by clicking on the EBI website below)\n\n it is use a function called `\"getSequence\"` with code:\n`def getSequence(entryId, dbName = 'uniprotkb', alphabet = Protein_Alphabet, format = 'fasta', debug: bool = True):\n\n if not isinstance(entryId, str):\n entryId = entryId.decode(\"utf-8\")\n\n url ='http://www.ebi.ac.uk/Tools/dbfetch/dbfetch?style=raw&db=' + dbName + '&format=' + format + '&id=' + entryId\n\n try:\n if debug:\n print('DEBUG: Querying URL: {0}'.format(url))\n\n data = urllib.request.urlopen(url).read()\n if format == 'fasta':\n return readFastaString(data.decode(\"utf-8\"), alphabet)[0]\n\n else:\n return data.decode(\"utf-8\")\n\n except urllib.error.HTTPError as ex:\n raise RuntimeError(ex.read())\n        \n`#This function retrieves a single entry from a database (entryId: ID for entry e.g.'MN908947', dbName: name of database e.g. 'genbank')\n\nonce we got that DNA string (consisting of only 4 types of characters-A/C/T/G), a biologist will translate them (into AminoAcid or Protein string, consisting 20 types of characters + asterisk/* , please see https://www.hgvs.org/mutnomen/codon.html). We'll translate them using a dictionary (code not shown) and then we'll split them based on * so that we can generate an output of a list of strings that is stored in a variable called \"protseq\" (see https://docs.google.com/document/d/1R22IGMfe9i1tYAlPK5ZSOikV-ON6xZVUq-C87xDMiLg/edit?usp=sharing )\n\nfinally, from that I need to find how many strings inside of that \"protseq\" that meet these criteria:\n1) start with M\n2) end with *\n3) has length of >=100 characters\n\nso, my question is actually:\nhow to understand the logic behind the below code that is said to be able to do that job:\n\n#check first occurence of M in each string of that 'protseq' list\n>>where_M_in_protseq_1st-string = protseq[0].find('M')\nprint(where_M_in_protseq_1st-string)\nprint(len(protseq[0]))\n\n#code to check whether each string in that 'protseq' start with M and >= 100\n>>cnt = 0\n\n>>for i in protseq:\n>>>if len(i) - i.find(\"M\") >= 100:\n>>>>cnt +=1\n\n>>print(cnt)\n        \n>>for seq in protseq:\n>>>m_pos = seq.find(\"M\")  \n>>>m_end_seq = seq[m_pos:]\n\n>>>if len(m_end_seq) > 100:\n>>>>print(m_end_seq)\n>>>>print(len(m_end_seq))    \n\nThe answer for this problem should be 8 strings inside 18 members of that protseq list will meet that criteria (so if we can end up getting 8 from that code we are correct)--> (but I just hope that I can get it correct and understand how the code works)\n\nImportance: from that 8 strings, we can try 1 of them in a real protein database (called Uniprot-KB) and know what part of covid body that is likely to interact with human and causing disease\n\nThank you very much",
      "metadata": {
        "noteable": {
          "cell_type": "markdown"
        },
        "tags": [
          "show_line_numbers"
        ]
      }
    },
    {
      "id": "06eb4a2b-b9f4-48d2-954d-837010fcebc4",
      "cell_type": "code",
      "metadata": {
        "noteable": {
          "cell_type": "python",
          "output_collection_id": "2c1d94a6-de50-41eb-b9b3-111644966291"
        },
        "tags": [
          "show_line_numbers"
        ],
        "ExecuteTime": {
          "end_time": "2023-09-07T01:20:37.745011+00:00",
          "start_time": "2023-09-07T01:20:37.021769+00:00"
        },
        "jupyter": {
          "source_hidden": true
        }
      },
      "execution_count": null,
      "source": "import urllib\n\nclass Alphabet():\n    \"\"\" A minimal class for alphabets\n        Alphabets include DNA, RNA and Protein \"\"\"\n    def __init__(self, symbolString):\n        self.symbols = symbolString\n    def __len__(self):              # implements the \"len\" operator, e.g. \"len(Alphabet('XYZ'))\" results in 3\n        return len(self.symbols)    # will tell you the length of the symbols in an Alphabet instance\n    def __contains__(self, sym):    # implements the \"in\" operator, e.g. \"'A' in Alphabet('ACGT')\" results in True\n        return sym in self.symbols  # will tell you if 'A' is in the symbols in an Alphabet instance\n    def __iter__(self):             # method that allows us to iterate over all symbols, e.g. \"for sym in Alphabet('ACGT'): print sym\" prints A, C, G and T on separate lines\n        tsyms = tuple(self.symbols)\n        return tsyms.__iter__()\n    def __getitem__(self, ndx):\n        \"\"\" Retrieve the symbol(s) at the specified index (or slice of indices) \"\"\"\n        return self.symbols[ndx]\n    def index(self, sym):\n        \"\"\" Retrieve the index of the given symbol in the alphabet. \"\"\"\n        return self.symbols.index(sym)\n    def __str__(self):\n        return self.symbols\n\n\"\"\" Below we declare alphabet variables that are going to be available when\nthis module (this .py file) is imported \"\"\"\nDNA_Alphabet = Alphabet('ACGT')\nRNA_Alphabet = Alphabet('ACGU')\nProtein_Alphabet = Alphabet('ACDEFGHIKLMNPQRSTVWY')\nProtein_wX = Alphabet('ACDEFGHIKLMNPQRSTVWYX')\nProtein_wGAP = Alphabet('ACDEFGHIKLMNPQRSTVWY-')\n\n\ndef getSequence(entryId, dbName = 'uniprotkb', alphabet = Protein_Alphabet, format = 'fasta', debug: bool = True):\n    \"\"\" Retrieve a single entry from a database\n    entryId: ID for entry e.g. 'P63166' or 'SUMO1_MOUSE'\n    dbName: name of database e.g. 'uniprotkb' or 'pdb' or 'refseqn'; see http://www.ebi.ac.uk/Tools/dbfetch/dbfetch/dbfetch.databases for available databases\n    format: file format specific to database e.g. 'fasta' or 'uniprot' for uniprotkb (see http://www.ebi.ac.uk/Tools/dbfetch/dbfetch/dbfetch.databases)\n    See http://www.ebi.ac.uk/Tools/dbfetch/syntax.jsp for more info re URL syntax\n    \"\"\"\n    if not isinstance(entryId, str):\n        entryId = entryId.decode(\"utf-8\")\n    url ='http://www.ebi.ac.uk/Tools/dbfetch/dbfetch?style=raw&db=' + dbName + '&format=' + format + '&id=' + entryId\n    try:\n        if debug:\n            print('DEBUG: Querying URL: {0}'.format(url))\n        data = urllib.request.urlopen(url).read()\n        if format == 'fasta':\n            return readFastaString(data.decode(\"utf-8\"), alphabet)[0]\n        else:\n            return data.decode(\"utf-8\")\n    except urllib.error.HTTPError as ex:\n        raise RuntimeError(ex.read())\n\n\n# get the covid 19 genome (29kB)\ncovid_seq = getSequence('MN908947', 'genbank', DNA_Alphabet)\n# print(seq_no10)\n\n# get all the bases from covid_seq\n# translate all of those base into amino acid seq\n# in all reading frames (6)\n\n\n\n\n\ntr_f = [0, 1, 2]\n# translate protein\ncovid_AAseq = []\n\nfor i in tr_f:\n    #print(\"all ORF in fwd direction\", covid_seq.translateDNA(i, True))\n    seq10b=covid_seq.translateDNA(i, True)\n    protseq=seq10b.split(\"*\")\n    seq10br = covid_seq.translateDNA(i, False)\n    protseq.extend(seq10br.split(\"*\"))\nprint(str(protseq))\n#     print(protseq)\n#     for element in protseq:\n#         print(\"Individual value is\",element)\n# #for i in tr_f:\n#     print(\"all ORF in reverse direction\", covid_seq.translateDNA(i, False))\n    \n#NEXT STEP (for mapping the ORF that begins with M & calculate the len > 100)\nORF = []\nfor i in protseq:\n    if i.startswith('M') == True:\n        ORF.append(i)\nprint('all of potential ORF', ORF)\n\nprint('length of all potential ORF')\nfor i in ORF:\n    print(i, \":\", len(i))\n\ntrue_ORF = []\nfor i in ORF:\n    if len(i) > 100:\n        true_ORF.append(i)\nprint(true_ORF)\n\n# for i in protseq:\n#     if i == 'M': # and len(i) > 100:\n#         ORF.append(i)\n# print(ORF)       \n \n",
      "outputs": []
    },
    {
      "id": "41454b45-b706-4f41-b1c0-dabc82e17d58",
      "cell_type": "code",
      "metadata": {
        "noteable": {
          "cell_type": "python",
          "output_collection_id": "2f775554-18ba-44fa-935d-af5a5ee57969"
        },
        "ExecuteTime": {
          "end_time": "2023-09-07T01:35:28.222291+00:00",
          "start_time": "2023-09-07T01:35:28.067202+00:00"
        }
      },
      "execution_count": null,
      "source": "characters = \"asjidowgeriogpjicnjjlaksdjalksdj*alskjdjjjjeosj   hjjjjl\"\n\n# We want to pick out \"jid\" and \"jic\"\nans = []\nfor k, c in enumerate(characters):\n    if c == \"j\":   # add abtrary number of constraints\n        ans.append(characters[k:k+3])\n    if c == \"*\":\n        break\n\nif len(ans[-1]) < 3:\n    ans.pop()\n        \nprint(ans)",
      "outputs": []
    },
    {
      "id": "cf536d8f-7335-4017-8306-23af57d35577",
      "cell_type": "code",
      "metadata": {
        "jupyter": {
          "outputs_hidden": false,
          "source_hidden": false
        },
        "noteable": {
          "cell_type": "code"
        }
      },
      "execution_count": null,
      "source": "characters = \"asjidowgeriogpjicneosjl\"",
      "outputs": []
    }
  ]
}
