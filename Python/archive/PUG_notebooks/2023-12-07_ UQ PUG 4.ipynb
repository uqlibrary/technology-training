{
  "nbformat": 4,
  "nbformat_minor": 5,
  "metadata": {
    "kernel_info": {
      "name": "python3"
    },
    "noteable": {},
    "kernelspec": {
      "display_name": "Python 3.9",
      "identifier": "legacy",
      "language": "python",
      "language_version": "3.9",
      "name": "python3"
    },
    "selected_hardware_size": "small"
  },
  "cells": [
    {
      "id": "cbe1d37d-17e7-4fd2-9c87-15e36c530fec",
      "cell_type": "markdown",
      "source": "# 2023-12-07: UQ PUG 4",
      "metadata": {
        "noteable": {
          "cell_type": "markdown"
        }
      }
    },
    {
      "id": "99fff582-1c5e-4528-ac5e-2ccbe4dff95b",
      "cell_type": "markdown",
      "source": "Welcome to UQ Python User Group! Check out our [general information](https://app.noteable.io/f/c84cf34f-03eb-48eb-aff4-ccf80b013b5c/UQ-PUG-General-Info.ipynb?cellID=1e2cf356) for details about who we are and what we do.\n\n## Structure\n\n1. We start today by adding our names to the table below\n1. Add your questions to this page\n1. This month's presentation\n1. Finally, we spend the rest of the session answering the questions you've brought!\n\n## Mailing list\n\nIf you would like to be on the mailing list and receive the latest PUG updates, please sign up here:\n\nhttps://forms.office.com/r/6qvfFX0qGr\n\nFeel free to send this link to anyone you think may benefit.\n\n## Training Resources\n\nWe offer Python training sessions and resources, you can find our introductory guide [here](https://github.com/uqlibrary/technology-training/blob/master/Python/python_intro/python_intro.md).",
      "metadata": {
        "noteable": {
          "cell_type": "markdown"
        }
      }
    },
    {
      "id": "9df272dd-b086-4f5d-a356-58cf1da925f6",
      "cell_type": "markdown",
      "source": "## Introduce yourself\n| What's your name? | Where are you from? | Why are you here? |\n| --- | --- | --- |\n|Karen | UQ Busines School |to learn |\n| Cameron | UQ Library | To help and learn|\n| | | |\n|Po-Yen |UQ Business school |Get some help and learn I guess :) |\n| | | |\n| Sagar |Bangladesh | Learn Python |\n| | ||\n| | | |\n| | | |\n| | | |\n| | | |\n| | | |\n| | | |\n| | | |\n| | | |\n| | | |\n| | | |\n| | | |\n| | | |\n| | | |",
      "metadata": {
        "noteable": {
          "cell_type": "markdown"
        }
      }
    },
    {
      "id": "b0184e3c-0b20-4c3f-a090-40bb06bcf366",
      "cell_type": "markdown",
      "source": "## Questions\n\nIf you have any Python questions you'd like to explore with the group, please put them in a markdown cell, with any code you'd like us to run in a Python cell.",
      "metadata": {
        "noteable": {
          "cell_type": "markdown"
        }
      }
    },
    {
      "id": "65c4506f-fa66-4601-9277-41c12bb91e1a",
      "cell_type": "markdown",
      "source": "### Question 1 - Question - Name\nQuestion about the CycleGAN architecture. Po-Yen",
      "metadata": {
        "noteable": {
          "cell_type": "markdown"
        }
      }
    },
    {
      "id": "06eb4a2b-b9f4-48d2-954d-837010fcebc4",
      "cell_type": "code",
      "metadata": {
        "noteable": {
          "cell_type": "python",
          "output_collection_id": "23f478e3-34cc-4c7c-a0b1-f5f78483dc85"
        },
        "tags": [],
        "ExecuteTime": {
          "end_time": "2023-12-07T00:05:00.374262+00:00",
          "start_time": "2023-12-07T00:05:00.218074+00:00"
        }
      },
      "execution_count": null,
      "source": "#I don't get the part under \"try\" and the part of \"except\"\n#I also find that onece I load TPU, I have to wait to use this engine\nimport tensorflow as tf\nfrom tensorflow import keras\nfrom tensorflow.keras import layers\nimport tensorflow_addons as tfa\n\nfrom kaggle_datasets import KaggleDatasets\nimport matplotlib.pyplot as plt\nimport numpy as np\n\ntry:\n    tpu = tf.distribute.cluster_resolver.TPUClusterResolver()\n    print('Device:', tpu.master())\n    tf.config.experimental_connect_to_cluster(tpu)\n    tf.tpu.experimental.initialize_tpu_system(tpu)\n    strategy = tf.distribute.experimental.TPUStrategy(tpu)\nexcept:\n    strategy = tf.distribute.get_strategy()\nprint('Number of replicas:', strategy.num_replicas_in_sync)\n\nAUTOTUNE = tf.data.experimental.AUTOTUNE\n    \nprint(tf.__version__)",
      "outputs": []
    },
    {
      "id": "58a904bd-fd54-4173-9f8d-02b2dc6cdade",
      "cell_type": "code",
      "metadata": {
        "jupyter": {
          "outputs_hidden": false,
          "source_hidden": false
        },
        "noteable": {
          "cell_type": "code",
          "output_collection_id": "5c31f51e-eac0-47ab-8394-d3dc1be4e1ad"
        },
        "ExecuteTime": {
          "end_time": "2023-12-07T00:34:53.886522+00:00",
          "start_time": "2023-12-07T00:34:53.731762+00:00"
        }
      },
      "execution_count": null,
      "source": "a = 5\n\ntry:\n    \"apple\"**2\nexcept ValueError:\n    print(\"We're inside the valueerror section\")\nexcept TypeError:\n    print(\"We're inside the typeerror section\")\n\n    ",
      "outputs": []
    },
    {
      "id": "0c083ef9-d1d8-438f-a168-2112f17e14ee",
      "cell_type": "markdown",
      "source": "# Answers\nYou may be able to process your data on some kind of HPC/loud computing platform.\n\nAt UQ, you can get access to the [Weiner HPC](https://rcc.uq.edu.au/article/2019/10/rcc-supports-ai-research-uq), which has GPUs optimised for ML.\n\nYou should still be eligible for [Nectar](https://ardc.edu.au/services/ardc-nectar-research-cloud/). This should be fairly easy to sign up to, but your access may disappear when you graduate.\n\nYou might be able to sign up for [MLeRP](https://docs.mlerp.cloud.edu.au/). \nThis may take more effort to sign up to thena Nectar, but in my previous discussions with people at MLeRP, they may be more accepting of people who aren't attached to a research institution.",
      "metadata": {
        "noteable": {
          "cell_type": "markdown"
        }
      }
    },
    {
      "id": "deef1c24-0a5a-41e4-bac1-5b2a6ed3671d",
      "cell_type": "markdown",
      "source": "### Question 2 - Question - Name\nAdd more details here",
      "metadata": {
        "noteable": {
          "cell_type": "markdown"
        }
      }
    },
    {
      "id": "f5d1f9c9-00e4-456b-929c-446c88ad470e",
      "cell_type": "code",
      "metadata": {
        "noteable": {
          "cell_type": "python",
          "output_collection_id": "8cea860d-562a-48e1-bb89-81abe10d1acf"
        },
        "ExecuteTime": {
          "end_time": "2023-12-07T00:54:39.935710+00:00",
          "start_time": "2023-12-07T00:54:27.257432+00:00"
        }
      },
      "execution_count": null,
      "source": "!pip install -qU langchain openai transformers",
      "outputs": []
    },
    {
      "id": "9cec076a-dcb0-4e95-aac2-03548a0953b5",
      "cell_type": "code",
      "metadata": {
        "noteable": {
          "cell_type": "python",
          "output_collection_id": "a4c2209e-a2cf-43f8-a76b-28e815bf9fa7"
        },
        "ExecuteTime": {
          "end_time": "2023-12-07T00:55:46.709117+00:00",
          "start_time": "2023-12-07T00:55:45.645997+00:00"
        }
      },
      "execution_count": null,
      "source": "from langchain.tools import BaseTool\nfrom langchain.agents import initialize_agent",
      "outputs": []
    },
    {
      "id": "ef3a63f0-fde1-4489-bf0e-5654b6083a9e",
      "cell_type": "code",
      "metadata": {
        "jupyter": {
          "outputs_hidden": false,
          "source_hidden": false
        },
        "noteable": {
          "cell_type": "code",
          "output_collection_id": "6a5c0da8-97bf-4c89-94d5-36038a370a6b"
        },
        "ExecuteTime": {
          "end_time": "2023-12-07T00:55:56.033309+00:00",
          "start_time": "2023-12-07T00:55:55.877942+00:00"
        },
        "scrolled": true
      },
      "execution_count": null,
      "source": "help(initialize_agent)",
      "outputs": []
    },
    {
      "id": "ef4f2e63-79f9-49bd-ac1d-257e69237013",
      "cell_type": "code",
      "metadata": {
        "jupyter": {
          "outputs_hidden": false,
          "source_hidden": false
        },
        "noteable": {
          "cell_type": "python"
        },
        "tags": []
      },
      "execution_count": null,
      "source": "## Can you tell me what does the error code mean\n\nagent(f\"What does this image show?\\n{img_url}\")\n\n> Entering new AgentExecutor chain...\n{\n    \"action\": \"Image captioner\",\n    \"action_input\": \"https://images.unsplash.com/photo-1616128417859-3a984dd35f02?ixlib=rb-4.0.3&ixid=MnwxMjA3fDB8MHxwaG90by1wYWdlfHx8fGVufDB8fHx8&auto=format&fit=crop&w=2372&q=80\"\n}\n---------------------------------------------------------------------------\nNameError                                 Traceback (most recent call last)\n~\\AppData\\Local\\Temp\\ipykernel_5440\\710257616.py in <module>\n----> 1 agent(f\"What does this image show?\\n{img_url}\")\n\n~\\anaconda3\\lib\\site-packages\\langchain\\chains\\base.py in __call__(self, inputs, return_only_outputs, callbacks, tags, metadata, run_name, include_run_info)\n    310         except BaseException as e:\n    311             run_manager.on_chain_error(e)\n--> 312             raise e\n    313         run_manager.on_chain_end(outputs)\n    314         final_outputs: Dict[str, Any] = self.prep_outputs(\n\n~\\anaconda3\\lib\\site-packages\\langchain\\chains\\base.py in __call__(self, inputs, return_only_outputs, callbacks, tags, metadata, run_name, include_run_info)\n    304         try:\n    305             outputs = (\n--> 306                 self._call(inputs, run_manager=run_manager)\n    307                 if new_arg_supported\n    308                 else self._call(inputs)\n\n~\\anaconda3\\lib\\site-packages\\langchain\\agents\\agent.py in _call(self, inputs, run_manager)\n   1310         # We now enter the agent loop (until it returns something).\n   1311         while self._should_continue(iterations, time_elapsed):\n-> 1312             next_step_output = self._take_next_step(\n   1313                 name_to_tool_map,\n   1314                 color_mapping,\n\n~\\anaconda3\\lib\\site-packages\\langchain\\agents\\agent.py in _take_next_step(self, name_to_tool_map, color_mapping, inputs, intermediate_steps, run_manager)\n   1036     ) -> Union[AgentFinish, List[Tuple[AgentAction, str]]]:\n   1037         return self._consume_next_step(\n-> 1038             [\n   1039                 a\n   1040                 for a in self._iter_next_step(\n\n~\\anaconda3\\lib\\site-packages\\langchain\\agents\\agent.py in <listcomp>(.0)\n   1036     ) -> Union[AgentFinish, List[Tuple[AgentAction, str]]]:\n   1037         return self._consume_next_step(\n-> 1038             [\n   1039                 a\n   1040                 for a in self._iter_next_step(\n\n~\\anaconda3\\lib\\site-packages\\langchain\\agents\\agent.py in _iter_next_step(self, name_to_tool_map, color_mapping, inputs, intermediate_steps, run_manager)\n   1132                     tool_run_kwargs[\"llm_prefix\"] = \"\"\n   1133                 # We then call the tool on the tool input to get an observation\n-> 1134                 observation = tool.run(\n   1135                     agent_action.tool_input,\n   1136                     verbose=self.verbose,\n\n~\\anaconda3\\lib\\site-packages\\langchain_core\\tools.py in run(self, tool_input, verbose, start_color, color, callbacks, tags, metadata, run_name, **kwargs)\n    363         except (Exception, KeyboardInterrupt) as e:\n    364             run_manager.on_tool_error(e)\n--> 365             raise e\n    366         else:\n    367             run_manager.on_tool_end(\n\n~\\anaconda3\\lib\\site-packages\\langchain_core\\tools.py in run(self, tool_input, verbose, start_color, color, callbacks, tags, metadata, run_name, **kwargs)\n    337                 self._run(*tool_args, run_manager=run_manager, **tool_kwargs)\n    338                 if new_arg_supported\n--> 339                 else self._run(*tool_args, **tool_kwargs)\n    340             )\n    341         except ToolException as e:\n\n~\\AppData\\Local\\Temp\\ipykernel_5440\\1932156217.py in _run(self, url)\n     12         image = Image.open(requests.get(img_url, stream=True).raw).convert('RGB')\n     13         # preprocess the image\n---> 14         inputs = processor(image, return_tensors=\"pt\").to(device)\n     15         # generate the caption\n     16         out = model.generate(**inputs, max_new_tokens=20)\n\nNameError: name 'processor' is not defined",
      "outputs": []
    },
    {
      "id": "d7c350d3-f8d7-44c1-ab19-59c28543ef30",
      "cell_type": "markdown",
      "source": "### Question 3 - Question - Name\nAdd more details here",
      "metadata": {
        "noteable": {
          "cell_type": "markdown"
        }
      }
    },
    {
      "id": "a08854c2-97e4-46d4-9a45-8793ee3eca0c",
      "cell_type": "code",
      "metadata": {
        "jupyter": {
          "outputs_hidden": false,
          "source_hidden": false
        },
        "noteable": {
          "cell_type": "python"
        },
        "tags": []
      },
      "execution_count": null,
      "source": "## Code for Q3",
      "outputs": []
    },
    {
      "id": "6ec24e8f-c075-4144-bf19-f448732e1b9e",
      "cell_type": "markdown",
      "source": "### Question 4 - Question - Name\nAdd more details here",
      "metadata": {
        "noteable": {
          "cell_type": "markdown"
        }
      }
    },
    {
      "id": "c0f0d7c3-9428-4447-9ab0-b6477467739e",
      "cell_type": "code",
      "metadata": {
        "jupyter": {
          "outputs_hidden": false,
          "source_hidden": false
        },
        "noteable": {
          "cell_type": "python"
        },
        "tags": []
      },
      "execution_count": null,
      "source": "## Code for Q4",
      "outputs": []
    },
    {
      "id": "7457c19f-e38d-4367-ab5a-f03cc8419b5f",
      "cell_type": "markdown",
      "source": "### Question 5 - Question - Name\nAdd more details here",
      "metadata": {
        "noteable": {
          "cell_type": "markdown"
        }
      }
    },
    {
      "id": "05f5f2f1-4784-446c-a556-aa61c14538a2",
      "cell_type": "code",
      "metadata": {
        "jupyter": {
          "outputs_hidden": false,
          "source_hidden": false
        },
        "noteable": {
          "cell_type": "python"
        },
        "tags": []
      },
      "execution_count": null,
      "source": "",
      "outputs": []
    },
    {
      "id": "dbdc2188-9e97-48d2-9b51-625f231c7d43",
      "cell_type": "markdown",
      "source": "### Question 6 - Question - Name\nAdd more details here",
      "metadata": {
        "noteable": {
          "cell_type": "markdown"
        }
      }
    },
    {
      "id": "69f0c052-a847-45c5-89ee-310c925311d5",
      "cell_type": "code",
      "metadata": {
        "jupyter": {
          "outputs_hidden": false,
          "source_hidden": false
        },
        "noteable": {
          "cell_type": "python"
        },
        "tags": []
      },
      "execution_count": null,
      "source": "## Code for Q6",
      "outputs": []
    }
  ]
}
