{
  "nbformat": 4,
  "nbformat_minor": 5,
  "metadata": {
    "kernel_info": {
      "name": "python3"
    },
    "noteable": {},
    "kernelspec": {
      "display_name": "Python 3.9",
      "identifier": "legacy",
      "language": "python",
      "language_version": "3.9",
      "name": "python3"
    },
    "selected_hardware_size": "small"
  },
  "cells": [
    {
      "id": "cbe1d37d-17e7-4fd2-9c87-15e36c530fec",
      "cell_type": "markdown",
      "source": "# 2023-11-02: UQ PUG 3",
      "metadata": {
        "noteable": {
          "cell_type": "markdown"
        }
      }
    },
    {
      "id": "99fff582-1c5e-4528-ac5e-2ccbe4dff95b",
      "cell_type": "markdown",
      "source": "Welcome to UQ Python User Group! Check out our [general information](https://app.noteable.io/f/c84cf34f-03eb-48eb-aff4-ccf80b013b5c/UQ-PUG-General-Info.ipynb?cellID=1e2cf356) for details about who we are and what we do.\n\n## Structure\n\n1. We start today by adding our names to the table below\n1. Add your questions to this page\n1. This month's presentation\n1. Finally, we spend the rest of the session answering the questions you've brought!\n\n## This month's presentation\n\nOur first guest speaker for PUG will be Nikhil Jangamreddy, please make him feel welcome!\n\nToday, Nikhil presented about integrating ChatGPT with Python, demonstrating some applications.\n\nSome interesting tools explored/mentioned\n- ChatGPT (and the API)\n- Deeplearning.ai\n- poe\n- streamlit\n- langchain\n- Mistral\n- Seminal work: Attention Is All You Need",
      "metadata": {
        "noteable": {
          "cell_type": "markdown"
        }
      }
    },
    {
      "id": "9df272dd-b086-4f5d-a356-58cf1da925f6",
      "cell_type": "markdown",
      "source": "## Introduce yourself\n| What's your name? | Where are you from? | Why are you here? |\n| --- | --- | --- |\n| Cameron West | UQ Library | To learn and help |\nKaren Fang|Business School |To learn :) | |\n| Nicholas Wiggins|UQ Library |Learn and help! |\n|Nikhil | EECS UQ | Learn|\n| Valentina Urrutia Guada | UQ Library | To learn and help|\n| | | |\n| | | |\n| | | |\n| | | |\n| | | |\n| | | |\n| | | |\n| | | |\n| | | |\n| | | |\n| | | |\n| | | |\n| | | |\n| | | |\n| | | |",
      "metadata": {
        "noteable": {
          "cell_type": "markdown"
        }
      }
    },
    {
      "id": "b0184e3c-0b20-4c3f-a090-40bb06bcf366",
      "cell_type": "markdown",
      "source": "## Questions\n\nIf you have any Python questions you'd like to explore with the group, please put them in a markdown cell, with any code you'd like us to run in a Python cell.",
      "metadata": {
        "noteable": {
          "cell_type": "markdown"
        }
      }
    },
    {
      "id": "65c4506f-fa66-4601-9277-41c12bb91e1a",
      "cell_type": "markdown",
      "source": "### Question 1 - Model installation Question -Karen\nFail to install the package\n\nhttps://allenai.github.io/scispacy/\n\nen_ner_bc5cdr_md\n\n#### Solution\n\nSee code below, we can install using the download link.",
      "metadata": {
        "noteable": {
          "cell_type": "markdown"
        }
      }
    },
    {
      "id": "5777359f-548c-4062-a5de-dd50177706bb",
      "cell_type": "code",
      "metadata": {
        "noteable": {
          "cell_type": "python",
          "output_collection_id": "9be225fd-d898-4391-929d-d4ee7b81e2cf"
        },
        "ExecuteTime": {
          "end_time": "2023-11-02T01:12:23.791430+00:00",
          "start_time": "2023-11-02T01:12:01.251291+00:00"
        },
        "jupyter": {
          "outputs_hidden": true
        }
      },
      "execution_count": null,
      "source": "# Example install\n!pip install https://s3-us-west-2.amazonaws.com/ai2-s2-scispacy/releases/v0.5.3/en_ner_bc5cdr_md-0.5.3.tar.gz",
      "outputs": []
    },
    {
      "id": "06eb4a2b-b9f4-48d2-954d-837010fcebc4",
      "cell_type": "code",
      "metadata": {
        "noteable": {
          "cell_type": "python",
          "output_collection_id": "a6ad886d-ec24-4e27-b831-466b76e19f2d"
        },
        "tags": [],
        "ExecuteTime": {
          "end_time": "2023-11-02T01:12:59.371595+00:00",
          "start_time": "2023-11-02T01:12:51.245392+00:00"
        }
      },
      "execution_count": null,
      "source": "## How to install modules:\n!pip install #<module url> access this by copying the download link for the module\n\nimport spacy\n\n# Load the spaCy English language model\nnlp = spacy.load('<module name>')",
      "outputs": []
    },
    {
      "id": "deef1c24-0a5a-41e4-bac1-5b2a6ed3671d",
      "cell_type": "markdown",
      "source": "### Question 2 - Question - Name\nAdd more details here",
      "metadata": {
        "noteable": {
          "cell_type": "markdown"
        }
      }
    },
    {
      "id": "ef4f2e63-79f9-49bd-ac1d-257e69237013",
      "cell_type": "code",
      "metadata": {
        "jupyter": {
          "outputs_hidden": false,
          "source_hidden": false
        },
        "noteable": {
          "cell_type": "python"
        },
        "tags": []
      },
      "execution_count": null,
      "source": "## Code for Q2",
      "outputs": []
    },
    {
      "id": "d7c350d3-f8d7-44c1-ab19-59c28543ef30",
      "cell_type": "markdown",
      "source": "### Question 3 - Question - Name\nAdd more details here",
      "metadata": {
        "noteable": {
          "cell_type": "markdown"
        }
      }
    },
    {
      "id": "a08854c2-97e4-46d4-9a45-8793ee3eca0c",
      "cell_type": "code",
      "metadata": {
        "jupyter": {
          "outputs_hidden": false,
          "source_hidden": false
        },
        "noteable": {
          "cell_type": "python"
        },
        "tags": []
      },
      "execution_count": null,
      "source": "## Code for Q3",
      "outputs": []
    },
    {
      "id": "6ec24e8f-c075-4144-bf19-f448732e1b9e",
      "cell_type": "markdown",
      "source": "### Question 4 - Question - Name\nAdd more details here",
      "metadata": {
        "noteable": {
          "cell_type": "markdown"
        }
      }
    },
    {
      "id": "c0f0d7c3-9428-4447-9ab0-b6477467739e",
      "cell_type": "code",
      "metadata": {
        "jupyter": {
          "outputs_hidden": false,
          "source_hidden": false
        },
        "noteable": {
          "cell_type": "python"
        },
        "tags": []
      },
      "execution_count": null,
      "source": "## Code for Q4",
      "outputs": []
    },
    {
      "id": "7457c19f-e38d-4367-ab5a-f03cc8419b5f",
      "cell_type": "markdown",
      "source": "### Question 5 - Question - Name\nAdd more details here",
      "metadata": {
        "noteable": {
          "cell_type": "markdown"
        }
      }
    },
    {
      "id": "05f5f2f1-4784-446c-a556-aa61c14538a2",
      "cell_type": "code",
      "metadata": {
        "jupyter": {
          "outputs_hidden": false,
          "source_hidden": false
        },
        "noteable": {
          "cell_type": "python"
        },
        "tags": []
      },
      "execution_count": null,
      "source": "## Code for Q5",
      "outputs": []
    },
    {
      "id": "dbdc2188-9e97-48d2-9b51-625f231c7d43",
      "cell_type": "markdown",
      "source": "### Question 6 - Question - Name\nAdd more details here",
      "metadata": {
        "noteable": {
          "cell_type": "markdown"
        }
      }
    },
    {
      "id": "69f0c052-a847-45c5-89ee-310c925311d5",
      "cell_type": "code",
      "metadata": {
        "jupyter": {
          "outputs_hidden": false,
          "source_hidden": false
        },
        "noteable": {
          "cell_type": "python"
        },
        "tags": []
      },
      "execution_count": null,
      "source": "## Code for Q6",
      "outputs": []
    }
  ]
}
