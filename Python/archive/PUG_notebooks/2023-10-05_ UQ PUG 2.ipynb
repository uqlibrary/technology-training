{
  "nbformat": 4,
  "nbformat_minor": 5,
  "metadata": {
    "kernel_info": {
      "name": "python3"
    },
    "noteable": {},
    "kernelspec": {
      "display_name": "Python 3.9",
      "language": "python",
      "name": "python3"
    },
    "selected_hardware_size": "small"
  },
  "cells": [
    {
      "id": "cbe1d37d-17e7-4fd2-9c87-15e36c530fec",
      "cell_type": "markdown",
      "source": "# 2023-10-05: UQ PUG 2",
      "metadata": {
        "noteable": {
          "cell_type": "markdown"
        }
      }
    },
    {
      "id": "99fff582-1c5e-4528-ac5e-2ccbe4dff95b",
      "cell_type": "markdown",
      "source": "Welcome to UQ Python User Group! Check out our [general information](https://app.noteable.io/f/c84cf34f-03eb-48eb-aff4-ccf80b013b5c/UQ-PUG-General-Info.ipynb?cellID=1e2cf356) for details about who we are and what we do.\n\n## Structure\n\n1. We start today by adding our names to the table below\n1. Add your questions to this page\n1. This month's presentation\n1. Finally, we spend the rest of the session answering the questions you've brought!\n\n## This month's presentation\n\nhttps://forms.office.com/r/TTLGSAxS0k\n\nJoin us for an informative presentation that delves into the world of Python Integrated Development Environments (IDEs). In this session, we will compare and contrast five popular Python development environments: Spyder, PyCharm, Visual Studio Code (VSCode), Google Colab, and the trusty Command Prompt.\n\nhttps://www.meetup.com/beginners-python-machine-learning/",
      "metadata": {
        "noteable": {
          "cell_type": "markdown"
        }
      }
    },
    {
      "id": "9df272dd-b086-4f5d-a356-58cf1da925f6",
      "cell_type": "markdown",
      "source": "## Introduce yourself\n| What's your name? | Where are you from? | Why are you here? |\n| --- | --- | --- |\n|Luke |Library |To learn and attempt help |\n|Mads |EAIT |Analyse data and hopefully get some help doing that |\n|Taneesha |School of the Environment: Conservation Science |Learn python coding for ArcGIS |\n|Cameron | Library | To learn and help!|\n|Nida |School of Chemistry & Molecular Biosciences|To learn more about python to work on molec bio data|\n|Nick Wiggins |Library |Here to help and mostly to learn |\n|Annie |SENV |here to ask all the questions! |\n| | | |\n| | | |\n| | | |\n| | | |\n| | | |\n| | | |\n| | | |\n| | | |\n| | | |\n| | | |\n| | | |\n| | | |\n| | | |",
      "metadata": {
        "noteable": {
          "cell_type": "markdown"
        }
      }
    },
    {
      "id": "b0184e3c-0b20-4c3f-a090-40bb06bcf366",
      "cell_type": "markdown",
      "source": "## Questions\n\nIf you have any Python questions you'd like to explore with the group, please put them in a markdown cell, with any code you'd like us to run in a Python cell.",
      "metadata": {
        "noteable": {
          "cell_type": "markdown"
        }
      }
    },
    {
      "id": "65c4506f-fa66-4601-9277-41c12bb91e1a",
      "cell_type": "markdown",
      "source": "### Question 1 - What are some \"best practices\" or the \"correct\" way of installing Python for the first time - Annie\nI frequently get \"path\" errors because I'm installed python somewhere and then the IDE can't find the path to Python (I think), and many \"hardcore\" programmers don't like Anaconda - they say it interferes with pip so what is the easiest both initially and later on down the line?",
      "metadata": {
        "noteable": {
          "cell_type": "markdown"
        }
      }
    },
    {
      "id": "6d9b32b5-6034-4997-8436-79ec42ce73a7",
      "cell_type": "markdown",
      "source": "Nick - I'm going to try installing Python and vsCode using these instructions (https://github.com/Oracen/python-intro), and put all the files into one folder as Luke suggested",
      "metadata": {
        "noteable": {
          "cell_type": "markdown"
        }
      }
    },
    {
      "id": "06eb4a2b-b9f4-48d2-954d-837010fcebc4",
      "cell_type": "code",
      "metadata": {
        "noteable": {
          "cell_type": "python"
        },
        "tags": [],
        "jupyter": {
          "source_hidden": true
        }
      },
      "execution_count": null,
      "source": "## Code for Q1",
      "outputs": []
    },
    {
      "id": "deef1c24-0a5a-41e4-bac1-5b2a6ed3671d",
      "cell_type": "markdown",
      "source": "### Question 2 - Question - Nida\nIn Spyder, sometimes when we want to import a module (i.e a .py file that contains certain functions/dictionary), it gives this error: \n\nModuleNotFoundError: No module named 'translate'\n\nis this problem related to whether the file that we are trying to import is not saved in our working directory? \n\nHow do we set that our working directory is in the place where we saved our file that we want to import as a module?\n\nI saw an Icon called \"browse a working directory\" in the top right of the Spyder, is this how we set our working directory? Or do we have to do sth else to change our working directory?\n\nThank you so much",
      "metadata": {
        "noteable": {
          "cell_type": "markdown"
        }
      }
    },
    {
      "id": "e75282d1-65af-4148-bb7c-883e2ef42f4b",
      "cell_type": "code",
      "metadata": {
        "noteable": {
          "cell_type": "python"
        }
      },
      "execution_count": null,
      "source": "# Access the system (using the module sys)\nimport sys\n\n# This will display where you can put your modules\nprint(sys.path)\n\n# This will add another location to the path (another folder where you can load modules)\nsys.path = sys.path + ['Location of your modules']",
      "outputs": []
    },
    {
      "id": "86e4978a-292d-422d-80a4-ce85851cabbc",
      "cell_type": "markdown",
      "source": "https://www.w3schools.com/python/python_ref_keywords.asp\navoid to name your files or variables with these words or python will get confused!\n",
      "metadata": {
        "noteable": {
          "cell_type": "markdown"
        }
      }
    },
    {
      "id": "4824fdc5-98ad-49b4-91c2-d697b325dca4",
      "cell_type": "markdown",
      "source": "#### Luke attempting to find answers\n\nThe 'translate' module is causing a conflict - https://pypi.org/project/translate/\n\nThis says you can do pip install to file path? - https://stackoverflow.com/questions/63790682/importing-custom-modules-py-files-into-virtual-environment#:~:text=You%20can%20create%20a%20setup.py%2C%20then%20install%20this,a%20module%20by%20pip%20pip%20install%20-e%20%2Fpath%2Fto%2Ffolder",
      "metadata": {
        "noteable": {
          "cell_type": "markdown"
        }
      }
    },
    {
      "id": "ef4f2e63-79f9-49bd-ac1d-257e69237013",
      "cell_type": "code",
      "metadata": {
        "jupyter": {
          "outputs_hidden": false,
          "source_hidden": false
        },
        "noteable": {
          "cell_type": "python",
          "output_collection_id": "37c7e32c-f52c-4e34-97b8-22ab0d6e7e49"
        },
        "tags": [],
        "ExecuteTime": {
          "end_time": "2023-10-05T01:04:16.834957+00:00",
          "start_time": "2023-10-05T01:04:16.680245+00:00"
        }
      },
      "execution_count": null,
      "source": "pip install translate",
      "outputs": []
    },
    {
      "id": "d7c350d3-f8d7-44c1-ab19-59c28543ef30",
      "cell_type": "markdown",
      "source": "### Question 3 - should you always be using venv (virtual environments) for every new project? - Annie\nwhat are the pros and cons of venv?",
      "metadata": {
        "noteable": {
          "cell_type": "markdown"
        }
      }
    },
    {
      "id": "a08854c2-97e4-46d4-9a45-8793ee3eca0c",
      "cell_type": "code",
      "metadata": {
        "jupyter": {
          "outputs_hidden": false,
          "source_hidden": false
        },
        "noteable": {
          "cell_type": "python"
        },
        "tags": []
      },
      "execution_count": null,
      "source": "## Code for Q3",
      "outputs": []
    },
    {
      "id": "6ec24e8f-c075-4144-bf19-f448732e1b9e",
      "cell_type": "markdown",
      "source": "### Question 4 - where does one find packages available in Notable? e.g. google colab doesnt have all packages - Annie\n\nAdd more details here",
      "metadata": {
        "noteable": {
          "cell_type": "markdown"
        }
      }
    },
    {
      "id": "c0f0d7c3-9428-4447-9ab0-b6477467739e",
      "cell_type": "code",
      "metadata": {
        "jupyter": {
          "outputs_hidden": false,
          "source_hidden": false
        },
        "noteable": {
          "cell_type": "python",
          "output_collection_id": "0443dddf-5f4a-445d-bb6f-6d6d3040cff6"
        },
        "tags": [],
        "ExecuteTime": {
          "end_time": "2023-10-05T01:30:36.785704+00:00",
          "start_time": "2023-10-05T01:30:36.056691+00:00"
        }
      },
      "execution_count": null,
      "source": "## Code for Q4\nhelp('modules')",
      "outputs": []
    },
    {
      "id": "7457c19f-e38d-4367-ab5a-f03cc8419b5f",
      "cell_type": "markdown",
      "source": "### Question 5 - Why does it sometimes take so long to use google collab? (i.e when we have to re-run everything again) is it bcs it is run the server which is different from server that we use to run our code with other environment? do we have place to store our .csv file?",
      "metadata": {
        "noteable": {
          "cell_type": "markdown"
        }
      }
    },
    {
      "id": "05f5f2f1-4784-446c-a556-aa61c14538a2",
      "cell_type": "code",
      "metadata": {
        "jupyter": {
          "outputs_hidden": false,
          "source_hidden": false
        },
        "noteable": {
          "cell_type": "python"
        },
        "tags": []
      },
      "execution_count": null,
      "source": "## Code for Q5",
      "outputs": []
    },
    {
      "id": "dbdc2188-9e97-48d2-9b51-625f231c7d43",
      "cell_type": "markdown",
      "source": "### Question 6 - How do I fix an IndexError: list index out of range? -Taneesha\nWriting python code in ArcGIS to loop through a number of geoprocessing tools",
      "metadata": {
        "noteable": {
          "cell_type": "markdown"
        }
      }
    },
    {
      "id": "2ffa0916-298a-48c9-a6c6-2d6cc91b1ce5",
      "cell_type": "code",
      "metadata": {
        "noteable": {
          "cell_type": "python",
          "output_collection_id": "e9e6980d-1f4d-4652-829f-457e21505183"
        },
        "ExecuteTime": {
          "end_time": "2023-10-05T01:36:16.130864+00:00",
          "start_time": "2023-10-05T01:36:15.942585+00:00"
        }
      },
      "execution_count": null,
      "source": "numbers = [0,1,2]\n\nletters = [\"a\",\"b\"]\n\nfor i in numbers:\n    print(letters[i])",
      "outputs": []
    },
    {
      "id": "e59d3796-7f8f-4629-a14a-8c247f010bda",
      "cell_type": "markdown",
      "source": "Question 7 - do we have tools for running it line by line in spyder?",
      "metadata": {
        "noteable": {
          "cell_type": "markdown"
        }
      }
    },
    {
      "id": "f7c5f661-3662-4d07-b5e6-edf3482c699e",
      "cell_type": "code",
      "metadata": {
        "jupyter": {
          "outputs_hidden": false,
          "source_hidden": false
        },
        "noteable": {
          "cell_type": "code"
        }
      },
      "execution_count": null,
      "source": "",
      "outputs": []
    },
    {
      "id": "b247b02b-9289-423b-a755-d6b095dc98ce",
      "cell_type": "markdown",
      "source": "Luke you mentioned you were interested in this - feel free to delete once you've seen this. https://www.deeplearning.ai/short-courses/langchain-chat-with-your-data/\n\nThanks Jason. I have a playlist of YTs to work my way through currently. Found a channel where one of the videos I had some success with.\nThis video - https://www.youtube.com/watch?v=wrD-fZvT6UI.\nSo am trying more of his tutorials. Trying to do it without OpenAI API",
      "metadata": {
        "noteable": {
          "cell_type": "markdown"
        }
      }
    }
  ]
}
