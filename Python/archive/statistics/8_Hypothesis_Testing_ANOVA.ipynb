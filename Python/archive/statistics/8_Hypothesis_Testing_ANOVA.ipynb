{
 "cells": [
  {
   "cell_type": "markdown",
   "metadata": {},
   "source": [
    "## Anova Test(F-Test)\n",
    "The t-test works well when dealing with two groups, but sometimes we want to compare more than two groups at the same time.\n",
    "\n",
    "\n",
    "For example, if we wanted to test whether petal_width age differs based on some categorical variable like species, we have to compare the means of each level or group the variable"
   ]
  },
  {
   "cell_type": "markdown",
   "metadata": {},
   "source": [
    "### One Way F-test(Anova) :-\n",
    "It tell whether two or more groups are similar or not based on their mean similarity and f-score.\n",
    "\n",
    "Example : there are 3 different category of iris flowers and their petal width and need to check whether all 3 group are similar or not \n",
    "\n",
    "Null hypothesis: all three groups petal width have same mean,\n",
    "Alternate hypothesis: petal width from three different groups are different.\n"
   ]
  },
  {
   "cell_type": "code",
   "execution_count": 1,
   "metadata": {},
   "outputs": [],
   "source": [
    "import seaborn as sns\n",
    "import pandas as pd\n",
    "import scipy.stats as stats\n",
    "import numpy as np\n",
    "df1=sns.load_dataset('iris')"
   ]
  },
  {
   "cell_type": "code",
   "execution_count": 2,
   "metadata": {},
   "outputs": [
    {
     "data": {
      "text/html": [
       "<div>\n",
       "<style scoped>\n",
       "    .dataframe tbody tr th:only-of-type {\n",
       "        vertical-align: middle;\n",
       "    }\n",
       "\n",
       "    .dataframe tbody tr th {\n",
       "        vertical-align: top;\n",
       "    }\n",
       "\n",
       "    .dataframe thead th {\n",
       "        text-align: right;\n",
       "    }\n",
       "</style>\n",
       "<table border=\"1\" class=\"dataframe\">\n",
       "  <thead>\n",
       "    <tr style=\"text-align: right;\">\n",
       "      <th></th>\n",
       "      <th>sepal_length</th>\n",
       "      <th>sepal_width</th>\n",
       "      <th>petal_length</th>\n",
       "      <th>petal_width</th>\n",
       "      <th>species</th>\n",
       "    </tr>\n",
       "  </thead>\n",
       "  <tbody>\n",
       "    <tr>\n",
       "      <th>0</th>\n",
       "      <td>5.1</td>\n",
       "      <td>3.5</td>\n",
       "      <td>1.4</td>\n",
       "      <td>0.2</td>\n",
       "      <td>setosa</td>\n",
       "    </tr>\n",
       "    <tr>\n",
       "      <th>1</th>\n",
       "      <td>4.9</td>\n",
       "      <td>3.0</td>\n",
       "      <td>1.4</td>\n",
       "      <td>0.2</td>\n",
       "      <td>setosa</td>\n",
       "    </tr>\n",
       "    <tr>\n",
       "      <th>2</th>\n",
       "      <td>4.7</td>\n",
       "      <td>3.2</td>\n",
       "      <td>1.3</td>\n",
       "      <td>0.2</td>\n",
       "      <td>setosa</td>\n",
       "    </tr>\n",
       "    <tr>\n",
       "      <th>3</th>\n",
       "      <td>4.6</td>\n",
       "      <td>3.1</td>\n",
       "      <td>1.5</td>\n",
       "      <td>0.2</td>\n",
       "      <td>setosa</td>\n",
       "    </tr>\n",
       "    <tr>\n",
       "      <th>4</th>\n",
       "      <td>5.0</td>\n",
       "      <td>3.6</td>\n",
       "      <td>1.4</td>\n",
       "      <td>0.2</td>\n",
       "      <td>setosa</td>\n",
       "    </tr>\n",
       "  </tbody>\n",
       "</table>\n",
       "</div>"
      ],
      "text/plain": [
       "   sepal_length  sepal_width  petal_length  petal_width species\n",
       "0           5.1          3.5           1.4          0.2  setosa\n",
       "1           4.9          3.0           1.4          0.2  setosa\n",
       "2           4.7          3.2           1.3          0.2  setosa\n",
       "3           4.6          3.1           1.5          0.2  setosa\n",
       "4           5.0          3.6           1.4          0.2  setosa"
      ]
     },
     "execution_count": 2,
     "metadata": {},
     "output_type": "execute_result"
    }
   ],
   "source": [
    "df1.head()"
   ]
  },
  {
   "cell_type": "code",
   "execution_count": 3,
   "metadata": {},
   "outputs": [],
   "source": [
    "df_anova = df1[['petal_width','species']]"
   ]
  },
  {
   "cell_type": "code",
   "execution_count": 4,
   "metadata": {},
   "outputs": [],
   "source": [
    "grps = pd.unique(df_anova.species.values)"
   ]
  },
  {
   "cell_type": "code",
   "execution_count": 5,
   "metadata": {},
   "outputs": [
    {
     "data": {
      "text/plain": [
       "array(['setosa', 'versicolor', 'virginica'], dtype=object)"
      ]
     },
     "execution_count": 5,
     "metadata": {},
     "output_type": "execute_result"
    }
   ],
   "source": [
    "grps"
   ]
  },
  {
   "cell_type": "code",
   "execution_count": 6,
   "metadata": {},
   "outputs": [],
   "source": [
    "d_data = {grp:df_anova['petal_width'][df_anova.species == grp] for grp in grps}"
   ]
  },
  {
   "cell_type": "code",
   "execution_count": 7,
   "metadata": {},
   "outputs": [
    {
     "data": {
      "text/plain": [
       "{'setosa': 0     0.2\n",
       " 1     0.2\n",
       " 2     0.2\n",
       " 3     0.2\n",
       " 4     0.2\n",
       " 5     0.4\n",
       " 6     0.3\n",
       " 7     0.2\n",
       " 8     0.2\n",
       " 9     0.1\n",
       " 10    0.2\n",
       " 11    0.2\n",
       " 12    0.1\n",
       " 13    0.1\n",
       " 14    0.2\n",
       " 15    0.4\n",
       " 16    0.4\n",
       " 17    0.3\n",
       " 18    0.3\n",
       " 19    0.3\n",
       " 20    0.2\n",
       " 21    0.4\n",
       " 22    0.2\n",
       " 23    0.5\n",
       " 24    0.2\n",
       " 25    0.2\n",
       " 26    0.4\n",
       " 27    0.2\n",
       " 28    0.2\n",
       " 29    0.2\n",
       " 30    0.2\n",
       " 31    0.4\n",
       " 32    0.1\n",
       " 33    0.2\n",
       " 34    0.2\n",
       " 35    0.2\n",
       " 36    0.2\n",
       " 37    0.1\n",
       " 38    0.2\n",
       " 39    0.2\n",
       " 40    0.3\n",
       " 41    0.3\n",
       " 42    0.2\n",
       " 43    0.6\n",
       " 44    0.4\n",
       " 45    0.3\n",
       " 46    0.2\n",
       " 47    0.2\n",
       " 48    0.2\n",
       " 49    0.2\n",
       " Name: petal_width, dtype: float64,\n",
       " 'versicolor': 50    1.4\n",
       " 51    1.5\n",
       " 52    1.5\n",
       " 53    1.3\n",
       " 54    1.5\n",
       " 55    1.3\n",
       " 56    1.6\n",
       " 57    1.0\n",
       " 58    1.3\n",
       " 59    1.4\n",
       " 60    1.0\n",
       " 61    1.5\n",
       " 62    1.0\n",
       " 63    1.4\n",
       " 64    1.3\n",
       " 65    1.4\n",
       " 66    1.5\n",
       " 67    1.0\n",
       " 68    1.5\n",
       " 69    1.1\n",
       " 70    1.8\n",
       " 71    1.3\n",
       " 72    1.5\n",
       " 73    1.2\n",
       " 74    1.3\n",
       " 75    1.4\n",
       " 76    1.4\n",
       " 77    1.7\n",
       " 78    1.5\n",
       " 79    1.0\n",
       " 80    1.1\n",
       " 81    1.0\n",
       " 82    1.2\n",
       " 83    1.6\n",
       " 84    1.5\n",
       " 85    1.6\n",
       " 86    1.5\n",
       " 87    1.3\n",
       " 88    1.3\n",
       " 89    1.3\n",
       " 90    1.2\n",
       " 91    1.4\n",
       " 92    1.2\n",
       " 93    1.0\n",
       " 94    1.3\n",
       " 95    1.2\n",
       " 96    1.3\n",
       " 97    1.3\n",
       " 98    1.1\n",
       " 99    1.3\n",
       " Name: petal_width, dtype: float64,\n",
       " 'virginica': 100    2.5\n",
       " 101    1.9\n",
       " 102    2.1\n",
       " 103    1.8\n",
       " 104    2.2\n",
       " 105    2.1\n",
       " 106    1.7\n",
       " 107    1.8\n",
       " 108    1.8\n",
       " 109    2.5\n",
       " 110    2.0\n",
       " 111    1.9\n",
       " 112    2.1\n",
       " 113    2.0\n",
       " 114    2.4\n",
       " 115    2.3\n",
       " 116    1.8\n",
       " 117    2.2\n",
       " 118    2.3\n",
       " 119    1.5\n",
       " 120    2.3\n",
       " 121    2.0\n",
       " 122    2.0\n",
       " 123    1.8\n",
       " 124    2.1\n",
       " 125    1.8\n",
       " 126    1.8\n",
       " 127    1.8\n",
       " 128    2.1\n",
       " 129    1.6\n",
       " 130    1.9\n",
       " 131    2.0\n",
       " 132    2.2\n",
       " 133    1.5\n",
       " 134    1.4\n",
       " 135    2.3\n",
       " 136    2.4\n",
       " 137    1.8\n",
       " 138    1.8\n",
       " 139    2.1\n",
       " 140    2.4\n",
       " 141    2.3\n",
       " 142    1.9\n",
       " 143    2.3\n",
       " 144    2.5\n",
       " 145    2.3\n",
       " 146    1.9\n",
       " 147    2.0\n",
       " 148    2.3\n",
       " 149    1.8\n",
       " Name: petal_width, dtype: float64}"
      ]
     },
     "execution_count": 7,
     "metadata": {},
     "output_type": "execute_result"
    }
   ],
   "source": [
    "d_data"
   ]
  },
  {
   "cell_type": "code",
   "execution_count": 8,
   "metadata": {},
   "outputs": [],
   "source": [
    "F, p = stats.f_oneway(d_data['setosa'], d_data['versicolor'], d_data['virginica'])"
   ]
  },
  {
   "cell_type": "code",
   "execution_count": 9,
   "metadata": {},
   "outputs": [
    {
     "name": "stdout",
     "output_type": "stream",
     "text": [
      "4.169445839443116e-85\n"
     ]
    }
   ],
   "source": [
    "print(p)"
   ]
  },
  {
   "cell_type": "code",
   "execution_count": 10,
   "metadata": {},
   "outputs": [
    {
     "name": "stdout",
     "output_type": "stream",
     "text": [
      "reject null hypothesis\n"
     ]
    }
   ],
   "source": [
    "if p<0.05:\n",
    "    print(\"reject null hypothesis\")\n",
    "else:\n",
    "    print(\"accept null hypothesis\")"
   ]
  }
 ],
 "metadata": {
  "kernelspec": {
   "display_name": "Python 3",
   "language": "python",
   "name": "python3"
  },
  "language_info": {
   "codemirror_mode": {
    "name": "ipython",
    "version": 3
   },
   "file_extension": ".py",
   "mimetype": "text/x-python",
   "name": "python",
   "nbconvert_exporter": "python",
   "pygments_lexer": "ipython3",
   "version": "3.10.13"
  }
 },
 "nbformat": 4,
 "nbformat_minor": 2
}
