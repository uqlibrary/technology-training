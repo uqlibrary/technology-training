{
 "cells": [
  {
   "cell_type": "markdown",
   "metadata": {},
   "source": [
    "### Confidence Intervals\n",
    "\n",
    "A confidence interval is a range of values, derived from a statistical estimation process, that is likely to contain the true value of an unknown population parameter\n",
    "\n",
    "Lets use the `scipy.stats` module in Python to compute the confidence interval:\n",
    "\n",
    "We'll use knowledge from various studies that suggest the average height of an adult male is approximately 175 cm with a standard deviation of about 7 cm. We'll generate a normally distributed sample of 100,1000, 10000 people's heights using these parameters. \n",
    "\n",
    "In this example, np.random.normal generates a random sample from a normal (Gaussian) distribution. stats.sem computes the standard error of the mean, and stats.t.interval computes the confidence interval.\n",
    "\n",
    "Remember that the resulting confidence interval represents the range that we're 95% confident contains the true mean height of the population from which we're sampling. The larger the sample size, the narrower our confidence interval will be, all else being equal."
   ]
  },
  {
   "cell_type": "code",
   "execution_count": 1,
   "metadata": {},
   "outputs": [
    {
     "name": "stdout",
     "output_type": "stream",
     "text": [
      "The 95% confidence interval for the mean height is (172.88222231494893, 178.9120181510856)\n"
     ]
    }
   ],
   "source": [
    "import numpy as np\n",
    "import scipy.stats as stats\n",
    "import matplotlib.pyplot as plt\n",
    "\n",
    "# Set a seed for reproducibility\n",
    "np.random.seed(0)\n",
    "\n",
    "# Generate a random sample of 100 people's heights\n",
    "heights = np.random.normal(175, 15, 100)\n",
    "\n",
    "\n",
    "# Compute a 95% confidence interval for the mean\n",
    "mean_height = np.mean(heights)\n",
    "standard_error = stats.sem(heights)\n",
    "\n",
    "confidence_interval = stats.t.interval(0.95, len(heights) - 1, loc=mean_height, scale=standard_error)\n",
    "\n",
    "print(f\"The 95% confidence interval for the mean height is {confidence_interval}\")"
   ]
  },
  {
   "cell_type": "code",
   "execution_count": 2,
   "metadata": {},
   "outputs": [
    {
     "name": "stdout",
     "output_type": "stream",
     "text": [
      "The 95% confidence interval for the mean height is (173.40193918189914, 175.240359593395)\n"
     ]
    }
   ],
   "source": [
    "import numpy as np\n",
    "import scipy.stats as stats\n",
    "import matplotlib.pyplot as plt\n",
    "\n",
    "# Set a seed for reproducibility\n",
    "np.random.seed(0)\n",
    "\n",
    "# Generate a random sample of 1000 people's heights\n",
    "heights = np.random.normal(175, 15, 1000)\n",
    "\n",
    "\n",
    "# Compute a 95% confidence interval for the mean\n",
    "mean_height = np.mean(heights)\n",
    "standard_error = stats.sem(heights)\n",
    "\n",
    "confidence_interval = stats.t.interval(0.95, len(heights) - 1, loc=mean_height, scale=standard_error)\n",
    "\n",
    "print(f\"The 95% confidence interval for the mean height is {confidence_interval}\")"
   ]
  },
  {
   "cell_type": "code",
   "execution_count": 3,
   "metadata": {},
   "outputs": [
    {
     "name": "stdout",
     "output_type": "stream",
     "text": [
      "The 95% confidence interval for the mean height is (174.43310823303932, 175.01388016221273)\n"
     ]
    }
   ],
   "source": [
    "import numpy as np\n",
    "import scipy.stats as stats\n",
    "import matplotlib.pyplot as plt\n",
    "\n",
    "# Set a seed for reproducibility\n",
    "np.random.seed(0)\n",
    "\n",
    "# Generate a random sample of 10000 people's heights\n",
    "heights = np.random.normal(175, 15, 10000)\n",
    "\n",
    "\n",
    "# Compute a 95% confidence interval for the mean\n",
    "mean_height = np.mean(heights)\n",
    "standard_error = stats.sem(heights)\n",
    "\n",
    "confidence_interval = stats.t.interval(0.95, len(heights) - 1, loc=mean_height, scale=standard_error)\n",
    "\n",
    "print(f\"The 95% confidence interval for the mean height is {confidence_interval}\")"
   ]
  },
  {
   "cell_type": "markdown",
   "metadata": {},
   "source": []
  }
 ],
 "metadata": {
  "kernelspec": {
   "display_name": "Python 3",
   "language": "python",
   "name": "python3"
  },
  "language_info": {
   "codemirror_mode": {
    "name": "ipython",
    "version": 3
   },
   "file_extension": ".py",
   "mimetype": "text/x-python",
   "name": "python",
   "nbconvert_exporter": "python",
   "pygments_lexer": "ipython3",
   "version": "3.10.13"
  }
 },
 "nbformat": 4,
 "nbformat_minor": 2
}
